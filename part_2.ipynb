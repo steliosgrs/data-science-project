{
 "cells": [
  {
   "attachments": {},
   "cell_type": "markdown",
   "metadata": {},
   "source": [
    "# Initialization \n"
   ]
  },
  {
   "attachments": {},
   "cell_type": "markdown",
   "metadata": {},
   "source": [
    "## Libraries & Files"
   ]
  },
  {
   "cell_type": "code",
   "execution_count": 79,
   "metadata": {},
   "outputs": [],
   "source": [
    "import pandas as pd\n",
    "import numpy as np\n",
    "import importlib\n",
    "millions = pd.read_csv('MIL_coun31_12-20_cat80.csv')\n",
    "# millions = pd.read_csv('new.csv')\n",
    "percents = pd.read_csv('GDP_coun31_12-20_cat80.csv')\n",
    "TotalGDP = pd.read_csv('mil_GDP_TOTAL_31_12-20.csv')"
   ]
  },
  {
   "cell_type": "code",
   "execution_count": 76,
   "metadata": {},
   "outputs": [
    {
     "data": {
      "text/plain": [
       "DATAFLOW        0.00\n",
       "LAST UPDATE     0.00\n",
       "freq            0.00\n",
       "unit            0.00\n",
       "sector          0.00\n",
       "cofog99         0.00\n",
       "na_item         0.00\n",
       "geo             0.00\n",
       "TIME_PERIOD     0.00\n",
       "OBS_VALUE       0.83\n",
       "OBS_FLAG       96.32\n",
       "dtype: float64"
      ]
     },
     "execution_count": 76,
     "metadata": {},
     "output_type": "execute_result"
    }
   ],
   "source": [
    "millions.isna().mean().round(4) *100"
   ]
  },
  {
   "cell_type": "code",
   "execution_count": 70,
   "metadata": {},
   "outputs": [
    {
     "name": "stdout",
     "output_type": "stream",
     "text": [
      "<class 'pandas.core.frame.DataFrame'>\n",
      "RangeIndex: 21600 entries, 0 to 21599\n",
      "Data columns (total 11 columns):\n",
      " #   Column       Non-Null Count  Dtype  \n",
      "---  ------       --------------  -----  \n",
      " 0   DATAFLOW     21600 non-null  object \n",
      " 1   LAST UPDATE  21600 non-null  object \n",
      " 2   freq         21600 non-null  object \n",
      " 3   unit         21600 non-null  object \n",
      " 4   sector       21600 non-null  object \n",
      " 5   cofog99      21600 non-null  object \n",
      " 6   na_item      21600 non-null  object \n",
      " 7   geo          21600 non-null  object \n",
      " 8   TIME_PERIOD  21600 non-null  int64  \n",
      " 9   OBS_VALUE    21421 non-null  float64\n",
      " 10  OBS_FLAG     794 non-null    object \n",
      "dtypes: float64(1), int64(1), object(9)\n",
      "memory usage: 1.8+ MB\n"
     ]
    }
   ],
   "source": [
    "millions.info()"
   ]
  },
  {
   "cell_type": "code",
   "execution_count": null,
   "metadata": {},
   "outputs": [],
   "source": [
    "millions.geo.unique()"
   ]
  },
  {
   "cell_type": "code",
   "execution_count": null,
   "metadata": {},
   "outputs": [],
   "source": [
    "TotalGDP.geo.unique()"
   ]
  },
  {
   "attachments": {},
   "cell_type": "markdown",
   "metadata": {},
   "source": [
    "# Preparation"
   ]
  },
  {
   "cell_type": "markdown",
   "metadata": {},
   "source": [
    "### Cleaning"
   ]
  },
  {
   "cell_type": "code",
   "execution_count": 80,
   "metadata": {},
   "outputs": [],
   "source": [
    "import clean\n",
    "importlib.reload(clean)\n",
    "from clean import cleaning,cleaning2,cleaningT,cleaning_task2"
   ]
  },
  {
   "cell_type": "code",
   "execution_count": 81,
   "metadata": {},
   "outputs": [],
   "source": [
    "df_percs = cleaning_task2(percents)\n",
    "df_money = cleaning_task2(millions)\n",
    "df_GDP = cleaningT(TotalGDP)"
   ]
  },
  {
   "cell_type": "code",
   "execution_count": 77,
   "metadata": {},
   "outputs": [
    {
     "name": "stdout",
     "output_type": "stream",
     "text": [
      "<class 'pandas.core.frame.DataFrame'>\n",
      "Int64Index: 21400 entries, 0 to 21599\n",
      "Data columns (total 4 columns):\n",
      " #   Column    Non-Null Count  Dtype  \n",
      "---  ------    --------------  -----  \n",
      " 0   Category  21400 non-null  object \n",
      " 1   Country   21400 non-null  object \n",
      " 2   Year      21400 non-null  int64  \n",
      " 3   Value     21400 non-null  float64\n",
      "dtypes: float64(1), int64(1), object(2)\n",
      "memory usage: 835.9+ KB\n"
     ]
    }
   ],
   "source": [
    "df_money.info()"
   ]
  },
  {
   "cell_type": "code",
   "execution_count": 71,
   "metadata": {},
   "outputs": [
    {
     "data": {
      "text/plain": [
       "(21415, 4)"
      ]
     },
     "execution_count": 71,
     "metadata": {},
     "output_type": "execute_result"
    }
   ],
   "source": [
    "df_percs.shape"
   ]
  },
  {
   "cell_type": "code",
   "execution_count": 72,
   "metadata": {},
   "outputs": [
    {
     "name": "stdout",
     "output_type": "stream",
     "text": [
      "<class 'pandas.core.frame.DataFrame'>\n",
      "Int64Index: 21415 entries, 0 to 21599\n",
      "Data columns (total 4 columns):\n",
      " #   Column    Non-Null Count  Dtype  \n",
      "---  ------    --------------  -----  \n",
      " 0   Category  21415 non-null  object \n",
      " 1   Country   21415 non-null  object \n",
      " 2   Year      21415 non-null  int64  \n",
      " 3   Value     21415 non-null  float64\n",
      "dtypes: float64(1), int64(1), object(2)\n",
      "memory usage: 836.5+ KB\n"
     ]
    }
   ],
   "source": [
    "df_percs.info()"
   ]
  },
  {
   "cell_type": "code",
   "execution_count": 82,
   "metadata": {},
   "outputs": [
    {
     "data": {
      "text/plain": [
       "array(['AT', 'BE', 'BG', 'CY', 'CZ', 'DE', 'DK', 'EE', 'EL', 'ES',\n",
       "       'EU27_2020', 'FI', 'FR', 'HR', 'HU', 'IE', 'IS', 'IT', 'LT', 'LU',\n",
       "       'LV', 'MT', 'NL', 'NO', 'PL', 'PT', 'RO', 'SE', 'SI', 'SK'],\n",
       "      dtype=object)"
      ]
     },
     "execution_count": 82,
     "metadata": {},
     "output_type": "execute_result"
    }
   ],
   "source": [
    "df_money.Country.unique()"
   ]
  },
  {
   "cell_type": "code",
   "execution_count": 83,
   "metadata": {},
   "outputs": [
    {
     "data": {
      "text/plain": [
       "array(['AT', 'BE', 'BG', 'CY', 'CZ', 'DE', 'DK', 'EE', 'EL', 'ES',\n",
       "       'EU27_2020', 'FI', 'FR', 'HR', 'HU', 'IE', 'IS', 'IT', 'LT', 'LU',\n",
       "       'LV', 'MT', 'NL', 'NO', 'PL', 'PT', 'RO', 'SE', 'SI', 'SK'],\n",
       "      dtype=object)"
      ]
     },
     "execution_count": 83,
     "metadata": {},
     "output_type": "execute_result"
    }
   ],
   "source": [
    "df_GDP.Country.unique()"
   ]
  },
  {
   "cell_type": "code",
   "execution_count": 84,
   "metadata": {},
   "outputs": [
    {
     "data": {
      "text/plain": [
       "array(['AT', 'BE', 'BG', 'CY', 'CZ', 'DE', 'DK', 'EE', 'EL', 'ES',\n",
       "       'EU27_2020', 'FI', 'FR', 'HR', 'HU', 'IE', 'IS', 'IT', 'LT', 'LU',\n",
       "       'LV', 'MT', 'NL', 'NO', 'PL', 'PT', 'RO', 'SE', 'SI', 'SK'],\n",
       "      dtype=object)"
      ]
     },
     "execution_count": 84,
     "metadata": {},
     "output_type": "execute_result"
    }
   ],
   "source": [
    "df_percs.Country.unique()"
   ]
  },
  {
   "cell_type": "code",
   "execution_count": 137,
   "metadata": {},
   "outputs": [
    {
     "data": {
      "text/html": [
       "<div>\n",
       "<style scoped>\n",
       "    .dataframe tbody tr th:only-of-type {\n",
       "        vertical-align: middle;\n",
       "    }\n",
       "\n",
       "    .dataframe tbody tr th {\n",
       "        vertical-align: top;\n",
       "    }\n",
       "\n",
       "    .dataframe thead th {\n",
       "        text-align: right;\n",
       "    }\n",
       "</style>\n",
       "<table border=\"1\" class=\"dataframe\">\n",
       "  <thead>\n",
       "    <tr style=\"text-align: right;\">\n",
       "      <th></th>\n",
       "      <th>Category</th>\n",
       "      <th>Country</th>\n",
       "      <th>Year</th>\n",
       "      <th>Value</th>\n",
       "    </tr>\n",
       "  </thead>\n",
       "  <tbody>\n",
       "    <tr>\n",
       "      <th>0</th>\n",
       "      <td>GF01</td>\n",
       "      <td>AT</td>\n",
       "      <td>2012</td>\n",
       "      <td>23137.9</td>\n",
       "    </tr>\n",
       "    <tr>\n",
       "      <th>1</th>\n",
       "      <td>GF01</td>\n",
       "      <td>AT</td>\n",
       "      <td>2013</td>\n",
       "      <td>23355.5</td>\n",
       "    </tr>\n",
       "    <tr>\n",
       "      <th>2</th>\n",
       "      <td>GF01</td>\n",
       "      <td>AT</td>\n",
       "      <td>2014</td>\n",
       "      <td>22738.7</td>\n",
       "    </tr>\n",
       "    <tr>\n",
       "      <th>3</th>\n",
       "      <td>GF01</td>\n",
       "      <td>AT</td>\n",
       "      <td>2015</td>\n",
       "      <td>23388.9</td>\n",
       "    </tr>\n",
       "    <tr>\n",
       "      <th>4</th>\n",
       "      <td>GF01</td>\n",
       "      <td>AT</td>\n",
       "      <td>2016</td>\n",
       "      <td>23109.4</td>\n",
       "    </tr>\n",
       "    <tr>\n",
       "      <th>...</th>\n",
       "      <td>...</td>\n",
       "      <td>...</td>\n",
       "      <td>...</td>\n",
       "      <td>...</td>\n",
       "    </tr>\n",
       "    <tr>\n",
       "      <th>21595</th>\n",
       "      <td>TOTAL</td>\n",
       "      <td>SK</td>\n",
       "      <td>2016</td>\n",
       "      <td>34574.9</td>\n",
       "    </tr>\n",
       "    <tr>\n",
       "      <th>21596</th>\n",
       "      <td>TOTAL</td>\n",
       "      <td>SK</td>\n",
       "      <td>2017</td>\n",
       "      <td>33440.3</td>\n",
       "    </tr>\n",
       "    <tr>\n",
       "      <th>21597</th>\n",
       "      <td>TOTAL</td>\n",
       "      <td>SK</td>\n",
       "      <td>2018</td>\n",
       "      <td>35615.0</td>\n",
       "    </tr>\n",
       "    <tr>\n",
       "      <th>21598</th>\n",
       "      <td>TOTAL</td>\n",
       "      <td>SK</td>\n",
       "      <td>2019</td>\n",
       "      <td>38240.7</td>\n",
       "    </tr>\n",
       "    <tr>\n",
       "      <th>21599</th>\n",
       "      <td>TOTAL</td>\n",
       "      <td>SK</td>\n",
       "      <td>2020</td>\n",
       "      <td>41943.9</td>\n",
       "    </tr>\n",
       "  </tbody>\n",
       "</table>\n",
       "<p>21400 rows × 4 columns</p>\n",
       "</div>"
      ],
      "text/plain": [
       "      Category Country  Year    Value\n",
       "0         GF01      AT  2012  23137.9\n",
       "1         GF01      AT  2013  23355.5\n",
       "2         GF01      AT  2014  22738.7\n",
       "3         GF01      AT  2015  23388.9\n",
       "4         GF01      AT  2016  23109.4\n",
       "...        ...     ...   ...      ...\n",
       "21595    TOTAL      SK  2016  34574.9\n",
       "21596    TOTAL      SK  2017  33440.3\n",
       "21597    TOTAL      SK  2018  35615.0\n",
       "21598    TOTAL      SK  2019  38240.7\n",
       "21599    TOTAL      SK  2020  41943.9\n",
       "\n",
       "[21400 rows x 4 columns]"
      ]
     },
     "execution_count": 137,
     "metadata": {},
     "output_type": "execute_result"
    }
   ],
   "source": [
    "df_money"
   ]
  },
  {
   "cell_type": "code",
   "execution_count": 174,
   "metadata": {},
   "outputs": [],
   "source": [
    "lefta=df_money.loc[df_money['Country'] == 'EU27_2020']"
   ]
  },
  {
   "cell_type": "code",
   "execution_count": 175,
   "metadata": {},
   "outputs": [
    {
     "data": {
      "text/html": [
       "<div>\n",
       "<style scoped>\n",
       "    .dataframe tbody tr th:only-of-type {\n",
       "        vertical-align: middle;\n",
       "    }\n",
       "\n",
       "    .dataframe tbody tr th {\n",
       "        vertical-align: top;\n",
       "    }\n",
       "\n",
       "    .dataframe thead th {\n",
       "        text-align: right;\n",
       "    }\n",
       "</style>\n",
       "<table border=\"1\" class=\"dataframe\">\n",
       "  <thead>\n",
       "    <tr style=\"text-align: right;\">\n",
       "      <th></th>\n",
       "      <th>Category</th>\n",
       "      <th>Country</th>\n",
       "      <th>Year</th>\n",
       "      <th>Value</th>\n",
       "    </tr>\n",
       "  </thead>\n",
       "  <tbody>\n",
       "    <tr>\n",
       "      <th>90</th>\n",
       "      <td>GF01</td>\n",
       "      <td>EU27_2020</td>\n",
       "      <td>2012</td>\n",
       "      <td>839755.8</td>\n",
       "    </tr>\n",
       "    <tr>\n",
       "      <th>91</th>\n",
       "      <td>GF01</td>\n",
       "      <td>EU27_2020</td>\n",
       "      <td>2013</td>\n",
       "      <td>832682.8</td>\n",
       "    </tr>\n",
       "    <tr>\n",
       "      <th>92</th>\n",
       "      <td>GF01</td>\n",
       "      <td>EU27_2020</td>\n",
       "      <td>2014</td>\n",
       "      <td>824599.2</td>\n",
       "    </tr>\n",
       "    <tr>\n",
       "      <th>93</th>\n",
       "      <td>GF01</td>\n",
       "      <td>EU27_2020</td>\n",
       "      <td>2015</td>\n",
       "      <td>802225.2</td>\n",
       "    </tr>\n",
       "    <tr>\n",
       "      <th>94</th>\n",
       "      <td>GF01</td>\n",
       "      <td>EU27_2020</td>\n",
       "      <td>2016</td>\n",
       "      <td>787943.8</td>\n",
       "    </tr>\n",
       "    <tr>\n",
       "      <th>...</th>\n",
       "      <td>...</td>\n",
       "      <td>...</td>\n",
       "      <td>...</td>\n",
       "      <td>...</td>\n",
       "    </tr>\n",
       "    <tr>\n",
       "      <th>21424</th>\n",
       "      <td>TOTAL</td>\n",
       "      <td>EU27_2020</td>\n",
       "      <td>2016</td>\n",
       "      <td>5942695.4</td>\n",
       "    </tr>\n",
       "    <tr>\n",
       "      <th>21425</th>\n",
       "      <td>TOTAL</td>\n",
       "      <td>EU27_2020</td>\n",
       "      <td>2017</td>\n",
       "      <td>6106183.5</td>\n",
       "    </tr>\n",
       "    <tr>\n",
       "      <th>21426</th>\n",
       "      <td>TOTAL</td>\n",
       "      <td>EU27_2020</td>\n",
       "      <td>2018</td>\n",
       "      <td>6295715.4</td>\n",
       "    </tr>\n",
       "    <tr>\n",
       "      <th>21427</th>\n",
       "      <td>TOTAL</td>\n",
       "      <td>EU27_2020</td>\n",
       "      <td>2019</td>\n",
       "      <td>6521467.4</td>\n",
       "    </tr>\n",
       "    <tr>\n",
       "      <th>21428</th>\n",
       "      <td>TOTAL</td>\n",
       "      <td>EU27_2020</td>\n",
       "      <td>2020</td>\n",
       "      <td>7114476.2</td>\n",
       "    </tr>\n",
       "  </tbody>\n",
       "</table>\n",
       "<p>720 rows × 4 columns</p>\n",
       "</div>"
      ],
      "text/plain": [
       "      Category    Country  Year      Value\n",
       "90        GF01  EU27_2020  2012   839755.8\n",
       "91        GF01  EU27_2020  2013   832682.8\n",
       "92        GF01  EU27_2020  2014   824599.2\n",
       "93        GF01  EU27_2020  2015   802225.2\n",
       "94        GF01  EU27_2020  2016   787943.8\n",
       "...        ...        ...   ...        ...\n",
       "21424    TOTAL  EU27_2020  2016  5942695.4\n",
       "21425    TOTAL  EU27_2020  2017  6106183.5\n",
       "21426    TOTAL  EU27_2020  2018  6295715.4\n",
       "21427    TOTAL  EU27_2020  2019  6521467.4\n",
       "21428    TOTAL  EU27_2020  2020  7114476.2\n",
       "\n",
       "[720 rows x 4 columns]"
      ]
     },
     "execution_count": 175,
     "metadata": {},
     "output_type": "execute_result"
    }
   ],
   "source": [
    "lefta"
   ]
  },
  {
   "cell_type": "code",
   "execution_count": 186,
   "metadata": {},
   "outputs": [],
   "source": [
    "import requests as r\n",
    "\n",
    "req = r.get('https://ec.europa.eu/eurostat/api/dissemination/sdmx/2.1/data/NAMA_10_GDP?format=SDMX-CSV')\n"
   ]
  },
  {
   "cell_type": "code",
   "execution_count": 189,
   "metadata": {},
   "outputs": [
    {
     "data": {
      "text/plain": [
       "{'Date': 'Sun, 05 Feb 2023 21:33:41 GMT', 'Transfer-Encoding': 'chunked', 'Content-Type': 'application/vnd.sdmx.data+csv;version=1.0.0', 'Content-Disposition': 'attachment; filename=\"estat_nama_10_gdp_en.csv\"', 'Connection': 'close'}"
      ]
     },
     "execution_count": 189,
     "metadata": {},
     "output_type": "execute_result"
    }
   ],
   "source": [
    "req.headers"
   ]
  },
  {
   "cell_type": "code",
   "execution_count": null,
   "metadata": {},
   "outputs": [],
   "source": [
    "req.code"
   ]
  },
  {
   "cell_type": "code",
   "execution_count": 184,
   "metadata": {},
   "outputs": [
    {
     "data": {
      "text/plain": [
       "'GF0108'"
      ]
     },
     "execution_count": 184,
     "metadata": {},
     "output_type": "execute_result"
    }
   ],
   "source": [
    "((lefta.groupby('Category')['Value'].sum() / lefta.groupby('Category')['Value'].sum().loc['TOTAL'])*100).idxmin()"
   ]
  },
  {
   "cell_type": "code",
   "execution_count": 185,
   "metadata": {},
   "outputs": [
    {
     "data": {
      "text/plain": [
       "0.001483969767488646"
      ]
     },
     "execution_count": 185,
     "metadata": {},
     "output_type": "execute_result"
    }
   ],
   "source": [
    "((lefta.groupby('Category')['Value'].sum() / lefta.groupby('Category')['Value'].sum().loc['TOTAL'])*100).min()"
   ]
  },
  {
   "cell_type": "code",
   "execution_count": 176,
   "metadata": {},
   "outputs": [
    {
     "data": {
      "text/plain": [
       "Category\n",
       "GF01       7322071.3\n",
       "GF0101     2310167.3\n",
       "GF0102      315300.3\n",
       "GF0103     1336369.3\n",
       "GF0104      724027.2\n",
       "             ...    \n",
       "GF1006      402035.2\n",
       "GF1007      933415.9\n",
       "GF1008        4959.6\n",
       "GF1009      348800.9\n",
       "TOTAL     55001120.5\n",
       "Name: Value, Length: 80, dtype: float64"
      ]
     },
     "execution_count": 176,
     "metadata": {},
     "output_type": "execute_result"
    }
   ],
   "source": [
    "lefta.groupby('Category')['Value'].sum()"
   ]
  },
  {
   "cell_type": "code",
   "execution_count": 141,
   "metadata": {},
   "outputs": [],
   "source": [
    "lf = lefta.groupby('Category')['Value'].sum()"
   ]
  },
  {
   "cell_type": "code",
   "execution_count": 148,
   "metadata": {},
   "outputs": [
    {
     "data": {
      "text/plain": [
       "Category\n",
       "GF01       7322071.3\n",
       "GF0101     2310167.3\n",
       "GF0102      315300.3\n",
       "GF0103     1336369.3\n",
       "GF0104      724027.2\n",
       "             ...    \n",
       "GF1006      402035.2\n",
       "GF1007      933415.9\n",
       "GF1008        4959.6\n",
       "GF1009      348800.9\n",
       "TOTAL     55001120.5\n",
       "Name: Value, Length: 80, dtype: float64"
      ]
     },
     "execution_count": 148,
     "metadata": {},
     "output_type": "execute_result"
    }
   ],
   "source": [
    "lf"
   ]
  },
  {
   "cell_type": "code",
   "execution_count": 152,
   "metadata": {},
   "outputs": [],
   "source": [
    "super_total = lf.loc['TOTAL']"
   ]
  },
  {
   "cell_type": "code",
   "execution_count": 170,
   "metadata": {},
   "outputs": [
    {
     "data": {
      "text/html": [
       "<div>\n",
       "<style scoped>\n",
       "    .dataframe tbody tr th:only-of-type {\n",
       "        vertical-align: middle;\n",
       "    }\n",
       "\n",
       "    .dataframe tbody tr th {\n",
       "        vertical-align: top;\n",
       "    }\n",
       "\n",
       "    .dataframe thead th {\n",
       "        text-align: right;\n",
       "    }\n",
       "</style>\n",
       "<table border=\"1\" class=\"dataframe\">\n",
       "  <thead>\n",
       "    <tr style=\"text-align: right;\">\n",
       "      <th></th>\n",
       "      <th>Category</th>\n",
       "      <th>Country</th>\n",
       "      <th>Year</th>\n",
       "      <th>Value</th>\n",
       "    </tr>\n",
       "  </thead>\n",
       "  <tbody>\n",
       "    <tr>\n",
       "      <th>90</th>\n",
       "      <td>GF01</td>\n",
       "      <td>EU27_2020</td>\n",
       "      <td>2012</td>\n",
       "      <td>7.4</td>\n",
       "    </tr>\n",
       "    <tr>\n",
       "      <th>91</th>\n",
       "      <td>GF01</td>\n",
       "      <td>EU27_2020</td>\n",
       "      <td>2013</td>\n",
       "      <td>7.2</td>\n",
       "    </tr>\n",
       "    <tr>\n",
       "      <th>92</th>\n",
       "      <td>GF01</td>\n",
       "      <td>EU27_2020</td>\n",
       "      <td>2014</td>\n",
       "      <td>7.0</td>\n",
       "    </tr>\n",
       "    <tr>\n",
       "      <th>93</th>\n",
       "      <td>GF01</td>\n",
       "      <td>EU27_2020</td>\n",
       "      <td>2015</td>\n",
       "      <td>6.6</td>\n",
       "    </tr>\n",
       "    <tr>\n",
       "      <th>94</th>\n",
       "      <td>GF01</td>\n",
       "      <td>EU27_2020</td>\n",
       "      <td>2016</td>\n",
       "      <td>6.3</td>\n",
       "    </tr>\n",
       "    <tr>\n",
       "      <th>...</th>\n",
       "      <td>...</td>\n",
       "      <td>...</td>\n",
       "      <td>...</td>\n",
       "      <td>...</td>\n",
       "    </tr>\n",
       "    <tr>\n",
       "      <th>21424</th>\n",
       "      <td>TOTAL</td>\n",
       "      <td>EU27_2020</td>\n",
       "      <td>2016</td>\n",
       "      <td>47.4</td>\n",
       "    </tr>\n",
       "    <tr>\n",
       "      <th>21425</th>\n",
       "      <td>TOTAL</td>\n",
       "      <td>EU27_2020</td>\n",
       "      <td>2017</td>\n",
       "      <td>46.7</td>\n",
       "    </tr>\n",
       "    <tr>\n",
       "      <th>21426</th>\n",
       "      <td>TOTAL</td>\n",
       "      <td>EU27_2020</td>\n",
       "      <td>2018</td>\n",
       "      <td>46.5</td>\n",
       "    </tr>\n",
       "    <tr>\n",
       "      <th>21427</th>\n",
       "      <td>TOTAL</td>\n",
       "      <td>EU27_2020</td>\n",
       "      <td>2019</td>\n",
       "      <td>46.5</td>\n",
       "    </tr>\n",
       "    <tr>\n",
       "      <th>21428</th>\n",
       "      <td>TOTAL</td>\n",
       "      <td>EU27_2020</td>\n",
       "      <td>2020</td>\n",
       "      <td>52.9</td>\n",
       "    </tr>\n",
       "  </tbody>\n",
       "</table>\n",
       "<p>720 rows × 4 columns</p>\n",
       "</div>"
      ],
      "text/plain": [
       "      Category    Country  Year  Value\n",
       "90        GF01  EU27_2020  2012    7.4\n",
       "91        GF01  EU27_2020  2013    7.2\n",
       "92        GF01  EU27_2020  2014    7.0\n",
       "93        GF01  EU27_2020  2015    6.6\n",
       "94        GF01  EU27_2020  2016    6.3\n",
       "...        ...        ...   ...    ...\n",
       "21424    TOTAL  EU27_2020  2016   47.4\n",
       "21425    TOTAL  EU27_2020  2017   46.7\n",
       "21426    TOTAL  EU27_2020  2018   46.5\n",
       "21427    TOTAL  EU27_2020  2019   46.5\n",
       "21428    TOTAL  EU27_2020  2020   52.9\n",
       "\n",
       "[720 rows x 4 columns]"
      ]
     },
     "execution_count": 170,
     "metadata": {},
     "output_type": "execute_result"
    }
   ],
   "source": [
    "df_percs.loc[df_percs['Country']=='EU27_2020']"
   ]
  },
  {
   "cell_type": "code",
   "execution_count": 171,
   "metadata": {},
   "outputs": [
    {
     "data": {
      "text/plain": [
       "[13.3126,\n",
       " 4.2002,\n",
       " 0.5733,\n",
       " 2.4297,\n",
       " 1.3164,\n",
       " 0.0401,\n",
       " 0.2494,\n",
       " 4.5021,\n",
       " 0.0015,\n",
       " 2.5194,\n",
       " 2.2645,\n",
       " 0.0124,\n",
       " 0.1194,\n",
       " 0.053,\n",
       " 0.0702,\n",
       " 3.5103,\n",
       " 1.9076,\n",
       " 0.4545,\n",
       " 0.6704,\n",
       " 0.3316,\n",
       " 0.0057,\n",
       " 0.1405,\n",
       " 9.6921,\n",
       " 2.3325,\n",
       " 0.5578,\n",
       " 0.7039,\n",
       " 0.2382,\n",
       " 4.2905,\n",
       " 0.0773,\n",
       " 0.4614,\n",
       " 0.811,\n",
       " 0.2196,\n",
       " 1.6578,\n",
       " 0.7289,\n",
       " 0.3131,\n",
       " 0.2554,\n",
       " 0.1626,\n",
       " 0.0746,\n",
       " 0.1231,\n",
       " 1.2419,\n",
       " 0.3513,\n",
       " 0.5002,\n",
       " 0.1839,\n",
       " 0.1107,\n",
       " 0.0125,\n",
       " 0.0833,\n",
       " 14.7441,\n",
       " 2.3893,\n",
       " 4.7055,\n",
       " 6.4677,\n",
       " 0.342,\n",
       " 0.2694,\n",
       " 0.5702,\n",
       " 2.4039,\n",
       " 0.7771,\n",
       " 1.0044,\n",
       " 0.4223,\n",
       " 0.1164,\n",
       " 0.0391,\n",
       " 0.0447,\n",
       " 9.8824,\n",
       " 3.277,\n",
       " 3.7523,\n",
       " 0.0755,\n",
       " 1.6348,\n",
       " 0.2856,\n",
       " 0.6492,\n",
       " 0.0555,\n",
       " 0.1525,\n",
       " 41.0355,\n",
       " 5.775,\n",
       " 21.9068,\n",
       " 3.2955,\n",
       " 3.7177,\n",
       " 3.2693,\n",
       " 0.731,\n",
       " 1.6971,\n",
       " 0.009,\n",
       " 0.6342,\n",
       " 100.0]"
      ]
     },
     "execution_count": 171,
     "metadata": {},
     "output_type": "execute_result"
    }
   ],
   "source": [
    "actual_prec = []\n",
    "for i in lf:\n",
    "    actual_prec.append(((i/super_total)*100).round(4))\n",
    "    # print((i/super_total)*100)\n",
    "actual_prec"
   ]
  },
  {
   "cell_type": "code",
   "execution_count": 173,
   "metadata": {},
   "outputs": [
    {
     "data": {
      "text/plain": [
       "list"
      ]
     },
     "execution_count": 173,
     "metadata": {},
     "output_type": "execute_result"
    }
   ],
   "source": [
    "type(actual_prec)"
   ]
  },
  {
   "cell_type": "code",
   "execution_count": 172,
   "metadata": {},
   "outputs": [
    {
     "data": {
      "text/plain": [
       "0.0015"
      ]
     },
     "execution_count": 172,
     "metadata": {},
     "output_type": "execute_result"
    }
   ],
   "source": [
    "min(actual_prec)"
   ]
  },
  {
   "cell_type": "code",
   "execution_count": 169,
   "metadata": {},
   "outputs": [
    {
     "data": {
      "text/html": [
       "<div>\n",
       "<style scoped>\n",
       "    .dataframe tbody tr th:only-of-type {\n",
       "        vertical-align: middle;\n",
       "    }\n",
       "\n",
       "    .dataframe tbody tr th {\n",
       "        vertical-align: top;\n",
       "    }\n",
       "\n",
       "    .dataframe thead th {\n",
       "        text-align: right;\n",
       "    }\n",
       "</style>\n",
       "<table border=\"1\" class=\"dataframe\">\n",
       "  <thead>\n",
       "    <tr style=\"text-align: right;\">\n",
       "      <th></th>\n",
       "      <th>Category</th>\n",
       "      <th>Country</th>\n",
       "      <th>Year</th>\n",
       "      <th>Value</th>\n",
       "    </tr>\n",
       "  </thead>\n",
       "  <tbody>\n",
       "    <tr>\n",
       "      <th>90</th>\n",
       "      <td>GF01</td>\n",
       "      <td>EU27_2020</td>\n",
       "      <td>2012</td>\n",
       "      <td>7.4</td>\n",
       "    </tr>\n",
       "    <tr>\n",
       "      <th>91</th>\n",
       "      <td>GF01</td>\n",
       "      <td>EU27_2020</td>\n",
       "      <td>2013</td>\n",
       "      <td>7.2</td>\n",
       "    </tr>\n",
       "    <tr>\n",
       "      <th>92</th>\n",
       "      <td>GF01</td>\n",
       "      <td>EU27_2020</td>\n",
       "      <td>2014</td>\n",
       "      <td>7.0</td>\n",
       "    </tr>\n",
       "    <tr>\n",
       "      <th>93</th>\n",
       "      <td>GF01</td>\n",
       "      <td>EU27_2020</td>\n",
       "      <td>2015</td>\n",
       "      <td>6.6</td>\n",
       "    </tr>\n",
       "    <tr>\n",
       "      <th>94</th>\n",
       "      <td>GF01</td>\n",
       "      <td>EU27_2020</td>\n",
       "      <td>2016</td>\n",
       "      <td>6.3</td>\n",
       "    </tr>\n",
       "    <tr>\n",
       "      <th>...</th>\n",
       "      <td>...</td>\n",
       "      <td>...</td>\n",
       "      <td>...</td>\n",
       "      <td>...</td>\n",
       "    </tr>\n",
       "    <tr>\n",
       "      <th>21424</th>\n",
       "      <td>TOTAL</td>\n",
       "      <td>EU27_2020</td>\n",
       "      <td>2016</td>\n",
       "      <td>47.4</td>\n",
       "    </tr>\n",
       "    <tr>\n",
       "      <th>21425</th>\n",
       "      <td>TOTAL</td>\n",
       "      <td>EU27_2020</td>\n",
       "      <td>2017</td>\n",
       "      <td>46.7</td>\n",
       "    </tr>\n",
       "    <tr>\n",
       "      <th>21426</th>\n",
       "      <td>TOTAL</td>\n",
       "      <td>EU27_2020</td>\n",
       "      <td>2018</td>\n",
       "      <td>46.5</td>\n",
       "    </tr>\n",
       "    <tr>\n",
       "      <th>21427</th>\n",
       "      <td>TOTAL</td>\n",
       "      <td>EU27_2020</td>\n",
       "      <td>2019</td>\n",
       "      <td>46.5</td>\n",
       "    </tr>\n",
       "    <tr>\n",
       "      <th>21428</th>\n",
       "      <td>TOTAL</td>\n",
       "      <td>EU27_2020</td>\n",
       "      <td>2020</td>\n",
       "      <td>52.9</td>\n",
       "    </tr>\n",
       "  </tbody>\n",
       "</table>\n",
       "<p>720 rows × 4 columns</p>\n",
       "</div>"
      ],
      "text/plain": [
       "      Category    Country  Year  Value\n",
       "90        GF01  EU27_2020  2012    7.4\n",
       "91        GF01  EU27_2020  2013    7.2\n",
       "92        GF01  EU27_2020  2014    7.0\n",
       "93        GF01  EU27_2020  2015    6.6\n",
       "94        GF01  EU27_2020  2016    6.3\n",
       "...        ...        ...   ...    ...\n",
       "21424    TOTAL  EU27_2020  2016   47.4\n",
       "21425    TOTAL  EU27_2020  2017   46.7\n",
       "21426    TOTAL  EU27_2020  2018   46.5\n",
       "21427    TOTAL  EU27_2020  2019   46.5\n",
       "21428    TOTAL  EU27_2020  2020   52.9\n",
       "\n",
       "[720 rows x 4 columns]"
      ]
     },
     "execution_count": 169,
     "metadata": {},
     "output_type": "execute_result"
    }
   ],
   "source": [
    "df_percs.loc[df_percs['Country'] == 'EU27_2020']"
   ]
  },
  {
   "cell_type": "code",
   "execution_count": null,
   "metadata": {},
   "outputs": [],
   "source": [
    "df_percs.replace"
   ]
  },
  {
   "cell_type": "code",
   "execution_count": 136,
   "metadata": {},
   "outputs": [
    {
     "data": {
      "text/plain": [
       "Category\n",
       "GF01       14808349.0\n",
       "GF0101      4678669.7\n",
       "GF0102       660534.6\n",
       "GF0103      2691288.9\n",
       "GF0104      1465877.0\n",
       "             ...     \n",
       "GF1006       809282.1\n",
       "GF1007      1895429.9\n",
       "GF1008        11187.6\n",
       "GF1009       712744.7\n",
       "TOTAL     111669078.0\n",
       "Name: Value, Length: 80, dtype: float64"
      ]
     },
     "execution_count": 136,
     "metadata": {},
     "output_type": "execute_result"
    }
   ],
   "source": [
    "df_money.groupby('Category')['Value'].sum()"
   ]
  },
  {
   "cell_type": "code",
   "execution_count": 103,
   "metadata": {},
   "outputs": [],
   "source": [
    "kapa =df_percs.loc[df_percs['Country']=='EU27_2020']"
   ]
  },
  {
   "cell_type": "code",
   "execution_count": 132,
   "metadata": {},
   "outputs": [],
   "source": [
    "kapa =df_money.loc[df_money['Country']=='EU27_2020']"
   ]
  },
  {
   "cell_type": "code",
   "execution_count": 133,
   "metadata": {},
   "outputs": [],
   "source": [
    "sum_kapa = kapa.groupby('Year')['Value'].sum()"
   ]
  },
  {
   "cell_type": "code",
   "execution_count": 134,
   "metadata": {},
   "outputs": [
    {
     "data": {
      "text/plain": [
       "Year\n",
       "2012    16986181.5\n",
       "2013    17133396.0\n",
       "2014    17315295.9\n",
       "2015    17626866.0\n",
       "2016    17828080.6\n",
       "2017    18318549.3\n",
       "2018    18887145.0\n",
       "2019    19564407.4\n",
       "2020    21343423.3\n",
       "Name: Value, dtype: float64"
      ]
     },
     "execution_count": 134,
     "metadata": {},
     "output_type": "execute_result"
    }
   ],
   "source": [
    "sum_kapa"
   ]
  },
  {
   "cell_type": "code",
   "execution_count": 113,
   "metadata": {},
   "outputs": [
    {
     "data": {
      "text/plain": [
       "Category       GF0105\n",
       "Country     EU27_2020\n",
       "Year             2012\n",
       "Value          2165.7\n",
       "Name: 1440, dtype: object"
      ]
     },
     "execution_count": 113,
     "metadata": {},
     "output_type": "execute_result"
    }
   ],
   "source": [
    "df_money.loc[kapa.Value.idxmin()]\n"
   ]
  },
  {
   "cell_type": "code",
   "execution_count": 116,
   "metadata": {},
   "outputs": [],
   "source": [
    "index_for_zeros = kapa.loc[kapa['Value']==0.0].index"
   ]
  },
  {
   "cell_type": "code",
   "execution_count": 122,
   "metadata": {},
   "outputs": [
    {
     "data": {
      "text/plain": [
       "pandas.core.series.Series"
      ]
     },
     "execution_count": 122,
     "metadata": {},
     "output_type": "execute_result"
    }
   ],
   "source": [
    "lefta = []\n",
    "for index in index_for_zeros:\n",
    "    lefta.append(df_money.loc[index])\n",
    "\n",
    "\n",
    "type(lefta[0])"
   ]
  },
  {
   "cell_type": "code",
   "execution_count": 127,
   "metadata": {},
   "outputs": [
    {
     "data": {
      "text/plain": [
       "[2165.7,\n",
       " 2468.4,\n",
       " 2186.6,\n",
       " 2651.9,\n",
       " 2555.9,\n",
       " 2368.9,\n",
       " 2522.8,\n",
       " 2578.8,\n",
       " 2532.8,\n",
       " 162.6,\n",
       " 138.4,\n",
       " 254.9,\n",
       " 91.3,\n",
       " 59.0,\n",
       " 0.0,\n",
       " 34.1,\n",
       " 24.1,\n",
       " 51.8,\n",
       " 883.1,\n",
       " 807.7,\n",
       " 704.3,\n",
       " 424.7,\n",
       " 848.4,\n",
       " 705.0,\n",
       " 820.4,\n",
       " 875.6,\n",
       " 759.9,\n",
       " 3910.1,\n",
       " 3119.3,\n",
       " 2977.9,\n",
       " 3127.9,\n",
       " 3064.7,\n",
       " 3006.8,\n",
       " 3207.1,\n",
       " 3320.4,\n",
       " 3411.0,\n",
       " 4230.3,\n",
       " 3508.7,\n",
       " 3668.0,\n",
       " 3765.6,\n",
       " 4558.4,\n",
       " 4681.9,\n",
       " 4984.5,\n",
       " 4978.6,\n",
       " 4210.0,\n",
       " 237.8,\n",
       " 246.5,\n",
       " 257.6,\n",
       " 342.2,\n",
       " 351.1,\n",
       " 390.9,\n",
       " 423.8,\n",
       " 434.2,\n",
       " 477.2,\n",
       " 5686.5,\n",
       " 3934.4,\n",
       " 4084.3,\n",
       " 3579.7,\n",
       " 3662.7,\n",
       " 4415.0,\n",
       " 4352.0,\n",
       " 4773.0,\n",
       " 4111.5,\n",
       " 4092.5,\n",
       " 4312.2,\n",
       " 4326.2,\n",
       " 4364.7,\n",
       " 4457.4,\n",
       " 4728.5,\n",
       " 5211.3,\n",
       " 5407.5,\n",
       " 618.2,\n",
       " 611.3,\n",
       " 597.5,\n",
       " 662.3,\n",
       " 777.8,\n",
       " 827.9,\n",
       " 954.5,\n",
       " 876.5,\n",
       " 941.2,\n",
       " 4898.3,\n",
       " 4408.5,\n",
       " 4367.5,\n",
       " 4997.4,\n",
       " 5238.8,\n",
       " 5131.2,\n",
       " 5005.6,\n",
       " 5568.7,\n",
       " 6191.7,\n",
       " 1984.6,\n",
       " 2105.3,\n",
       " 2154.7,\n",
       " 2210.1,\n",
       " 2318.9,\n",
       " 2426.1,\n",
       " 2762.7,\n",
       " 2712.2,\n",
       " 2837.5,\n",
       " 2756.1,\n",
       " 2433.6,\n",
       " 2505.9,\n",
       " 2643.8,\n",
       " 2373.3,\n",
       " 2634.1,\n",
       " 2905.5,\n",
       " 3070.0,\n",
       " 3274.0,\n",
       " 4528.2,\n",
       " 4780.9,\n",
       " 4502.5,\n",
       " 4575.2,\n",
       " 4518.6,\n",
       " 4612.9,\n",
       " 4639.1,\n",
       " 4800.7,\n",
       " 4594.2,\n",
       " 2760.1,\n",
       " 2951.2,\n",
       " 2926.2,\n",
       " 3705.3,\n",
       " 3376.6,\n",
       " 3363.0,\n",
       " 3547.4,\n",
       " 3943.7,\n",
       " 3971.6,\n",
       " 493.1,\n",
       " 474.5,\n",
       " 481.7,\n",
       " 523.0,\n",
       " 557.7,\n",
       " 664.7,\n",
       " 604.9,\n",
       " 576.0,\n",
       " 584.0]"
      ]
     },
     "execution_count": 127,
     "metadata": {},
     "output_type": "execute_result"
    }
   ],
   "source": [
    "lefta_times = []\n",
    "for entry in lefta:\n",
    "    lefta_times.append(entry.loc['Value'])\n",
    "    \n",
    "lefta_times"
   ]
  },
  {
   "cell_type": "code",
   "execution_count": 126,
   "metadata": {},
   "outputs": [
    {
     "data": {
      "text/plain": [
       "2165.7"
      ]
     },
     "execution_count": 126,
     "metadata": {},
     "output_type": "execute_result"
    }
   ],
   "source": [
    "lefta[0].loc['Value']"
   ]
  },
  {
   "cell_type": "code",
   "execution_count": null,
   "metadata": {},
   "outputs": [
    {
     "data": {
      "text/plain": [
       "Category       GF0105\n",
       "Country     EU27_2020\n",
       "Year             2012\n",
       "Value             0.0\n",
       "Name: 1440, dtype: object"
      ]
     },
     "metadata": {},
     "output_type": "display_data"
    }
   ],
   "source": [
    "kapa.loc[kapa.Value.idxmin()]\n"
   ]
  },
  {
   "cell_type": "code",
   "execution_count": 53,
   "metadata": {},
   "outputs": [
    {
     "data": {
      "text/plain": [
       "270"
      ]
     },
     "execution_count": 53,
     "metadata": {},
     "output_type": "execute_result"
    }
   ],
   "source": [
    "GDP_Expenditure  = df_money.loc[df_money['Category'] == 'TOTAL'].Value.values # Returns an ndarray\n",
    "len(GDP_Expenditure)"
   ]
  },
  {
   "cell_type": "code",
   "execution_count": 54,
   "metadata": {},
   "outputs": [
    {
     "data": {
      "text/plain": [
       "270"
      ]
     },
     "execution_count": 54,
     "metadata": {},
     "output_type": "execute_result"
    }
   ],
   "source": [
    "Total = df_GDP.Value.values\n",
    "len(Total)"
   ]
  },
  {
   "cell_type": "code",
   "execution_count": null,
   "metadata": {},
   "outputs": [],
   "source": [
    "Total"
   ]
  },
  {
   "cell_type": "code",
   "execution_count": 85,
   "metadata": {},
   "outputs": [],
   "source": [
    "true_perc = []\n",
    "for entry in range(len(GDP_Expenditure)):\n",
    "    true_perc.append((GDP_Expenditure[entry]  / Total[entry])*100)\n"
   ]
  },
  {
   "cell_type": "code",
   "execution_count": 90,
   "metadata": {},
   "outputs": [
    {
     "data": {
      "text/plain": [
       "array([1.6319190e+05, 1.6729210e+05, 1.7467160e+05, 1.7603000e+05,\n",
       "       1.7905900e+05, 1.8209130e+05, 1.8785060e+05, 1.9313660e+05,\n",
       "       2.1620750e+05, 2.1810220e+05, 2.2047010e+05, 2.2406930e+05,\n",
       "       2.2385030e+05, 2.2845160e+05, 2.3156100e+05, 2.4031360e+05,\n",
       "       2.4789860e+05, 2.7040990e+05, 1.4475600e+04, 1.5879200e+04,\n",
       "       1.8575100e+04, 1.8495300e+04, 1.6952400e+04, 1.8266100e+04,\n",
       "       2.0770500e+04, 2.1851600e+04, 2.5636000e+04, 8.2054000e+03,\n",
       "       7.7298000e+03, 8.6112000e+03, 7.2566000e+03, 7.0895000e+03,\n",
       "       7.3959000e+03, 9.2268000e+03, 8.8310000e+03, 9.7242000e+03,\n",
       "       7.2636100e+04, 6.8010600e+04, 6.7266700e+04, 7.1102800e+04,\n",
       "       7.0533600e+04, 7.5673200e+04, 8.5642700e+04, 9.2623100e+04,\n",
       "       1.0164880e+05, 1.2331380e+06, 1.2635440e+06, 1.2969400e+06,\n",
       "       1.3357890e+06, 1.3903740e+06, 1.4432730e+06, 1.4928130e+06,\n",
       "       1.5626980e+06, 1.7121310e+06, 1.4754050e+05, 1.4443110e+05,\n",
       "       1.4674490e+05, 1.4887000e+05, 1.4857210e+05, 1.4902410e+05,\n",
       "       1.5282200e+05, 1.5373490e+05, 1.6690400e+05, 7.0315000e+03,\n",
       "       7.2663000e+03, 7.5711000e+03, 8.1545000e+03, 8.5681000e+03,\n",
       "       9.3514000e+03, 1.0184300e+04, 1.0936000e+04, 1.2313100e+04,\n",
       "       1.0684400e+05, 1.1292600e+05, 8.9913000e+04, 9.5336000e+04,\n",
       "       8.7154000e+04, 8.5871000e+04, 8.7137000e+04, 8.7758000e+04,\n",
       "       9.8871000e+04, 5.0168800e+05, 4.6764900e+05, 4.6565000e+05,\n",
       "       4.7296200e+05, 4.7273300e+05, 4.7880400e+05, 5.0177400e+05,\n",
       "       5.2403700e+05, 5.8827900e+05, 5.6620621e+06, 5.7111325e+06,\n",
       "       5.7717671e+06, 5.8756209e+06, 5.9426954e+06, 6.1061835e+06,\n",
       "       6.2957154e+06, 6.5214674e+06, 7.1144762e+06, 1.1145600e+05,\n",
       "       1.1610200e+05, 1.1850400e+05, 1.1941500e+05, 1.2104400e+05,\n",
       "       1.2137500e+05, 1.2449100e+05, 1.2780900e+05, 1.3574500e+05,\n",
       "       1.1928590e+06, 1.2116220e+06, 1.2299590e+06, 1.2486560e+06,\n",
       "       1.2664350e+06, 1.2980230e+06, 1.3150510e+06, 1.3492800e+06,\n",
       "       1.4195930e+06, 2.1510000e+04, 2.1406500e+04, 2.1375200e+04,\n",
       "       2.1801900e+04, 2.2136000e+04, 2.2313700e+04, 2.3955500e+04,\n",
       "       2.5585900e+04, 2.7367500e+04, 4.9237500e+04, 5.1183100e+04,\n",
       "       5.3180600e+04, 5.6823800e+04, 5.4404900e+04, 5.9343000e+04,\n",
       "       6.2791300e+04, 6.6822300e+04, 7.0455800e+04, 7.4615800e+04,\n",
       "       7.2810000e+04, 7.3241600e+04, 7.6355600e+04, 7.5791200e+04,\n",
       "       7.7802200e+04, 8.2586600e+04, 8.6285600e+04, 1.0203280e+05,\n",
       "       5.4796000e+03, 5.5771000e+03, 6.1741000e+03, 6.8668000e+03,\n",
       "       8.7322000e+03, 9.7335000e+03, 9.7511000e+03, 9.6172000e+03,\n",
       "       9.6101000e+03, 8.2176400e+05, 8.2172100e+05, 8.2762500e+05,\n",
       "       8.3292700e+05, 8.3226500e+05, 8.4682100e+05, 8.5730200e+05,\n",
       "       8.7100300e+05, 9.4448600e+05, 1.2088500e+04, 1.2460100e+04,\n",
       "       1.2710500e+04, 1.3133000e+04, 1.3315400e+04, 1.4047500e+04,\n",
       "       1.5472400e+04, 1.6985400e+04, 2.1233800e+04, 1.9453800e+04,\n",
       "       2.0244700e+04, 2.1030500e+04, 2.1861400e+04, 2.2509600e+04,\n",
       "       2.4010600e+04, 2.5426600e+04, 2.6886900e+04, 3.0297400e+04,\n",
       "       8.5763000e+03, 8.7822000e+03, 9.1958000e+03, 9.4938000e+03,\n",
       "       9.4791000e+03, 1.0438600e+04, 1.1471000e+04, 1.1704400e+04,\n",
       "       1.2726500e+04, 3.1016000e+03, 3.2403000e+03, 3.5215000e+03,\n",
       "       3.8482000e+03, 3.8271000e+03, 4.1067000e+03, 4.6287000e+03,\n",
       "       5.0552000e+03, 6.0018000e+03, 3.0704300e+05, 3.0936800e+05,\n",
       "       3.0948900e+05, 3.0946500e+05, 3.0916700e+05, 3.1341000e+05,\n",
       "       3.2723900e+05, 3.4249300e+05, 3.8099100e+05, 1.7173790e+05,\n",
       "       1.7470430e+05, 1.7387880e+05, 1.7131420e+05, 1.7185050e+05,\n",
       "       1.7834480e+05, 1.8078730e+05, 1.8648300e+05, 1.8619390e+05,\n",
       "       1.6738070e+05, 1.6860490e+05, 1.7438130e+05, 1.7939870e+05,\n",
       "       1.7556450e+05, 1.9291540e+05, 2.0678140e+05, 2.2289590e+05,\n",
       "       2.5486430e+05, 8.2277800e+04, 8.5112300e+04, 8.9529600e+04,\n",
       "       8.6707400e+04, 8.3615900e+04, 8.8897400e+04, 8.8722500e+04,\n",
       "       9.1004200e+04, 9.8725000e+04, 5.0377700e+04, 5.1409800e+04,\n",
       "       5.3348100e+04, 5.7716500e+04, 5.8618800e+04, 6.2634400e+04,\n",
       "       7.1058200e+04, 8.0625000e+04, 9.1583400e+04, 2.1929830e+05,\n",
       "       2.2825710e+05, 2.2249990e+05, 2.2473770e+05, 2.3179010e+05,\n",
       "       2.3633870e+05, 2.3463610e+05, 2.3431430e+05, 2.5022540e+05,\n",
       "       1.7892600e+04, 2.1970000e+04, 1.9134100e+04, 1.8925300e+04,\n",
       "       1.8669700e+04, 1.8955100e+04, 1.9952800e+04, 2.0971600e+04,\n",
       "       2.4079200e+04, 3.0276400e+04, 3.1640300e+04, 3.3028600e+04,\n",
       "       3.6508200e+04, 3.4574900e+04, 3.3440300e+04, 3.5615000e+04,\n",
       "       3.8240700e+04, 4.1943900e+04])"
      ]
     },
     "execution_count": 90,
     "metadata": {},
     "output_type": "execute_result"
    }
   ],
   "source": [
    "GDP_Expenditure"
   ]
  },
  {
   "cell_type": "code",
   "execution_count": 89,
   "metadata": {},
   "outputs": [
    {
     "data": {
      "text/plain": [
       "[51.21304365563795,\n",
       " 51.64767889371807,\n",
       " 52.43093045363582,\n",
       " 51.13149825775876,\n",
       " 50.07130712959441,\n",
       " 49.29888545624223,\n",
       " 48.75765072191461,\n",
       " 48.6282556943572,\n",
       " 56.74104594631832,\n",
       " 56.477599387013186,\n",
       " 56.11639686418245,\n",
       " 55.59986729637202,\n",
       " 53.7195939346496,\n",
       " 53.1177419921118,\n",
       " 52.03032197948052,\n",
       " 52.23631825007151,\n",
       " 51.79174544808783,\n",
       " 58.806966891628434,\n",
       " 34.25626171409098,\n",
       " 37.762483888304935,\n",
       " 43.17180309580254,\n",
       " 40.37190885417235,\n",
       " 34.75768405124956,\n",
       " 34.771840788253854,\n",
       " 36.94188329705041,\n",
       " 35.49729119455477,\n",
       " 41.59061891110971,\n",
       " 42.08890302327728,\n",
       " 42.847402759377616,\n",
       " 49.25526803486856,\n",
       " 40.43980784877565,\n",
       " 37.286076428699154,\n",
       " 36.41076386837596,\n",
       " 42.56866173627804,\n",
       " 38.10374435843667,\n",
       " 44.413082498664075,\n",
       " 44.675082647805034,\n",
       " 42.65016947664484,\n",
       " 42.62206685662836,\n",
       " 41.93415594173564,\n",
       " 39.75101232257938,\n",
       " 38.98010074541718,\n",
       " 40.59463289891241,\n",
       " 41.05388197071541,\n",
       " 47.102065101243994,\n",
       " 44.91798740397259,\n",
       " 44.944386149003144,\n",
       " 44.30302347109922,\n",
       " 44.141095374366365,\n",
       " 44.353726305849925,\n",
       " 44.175155180646186,\n",
       " 44.35701020665884,\n",
       " 44.99225511479129,\n",
       " 50.2764995903601,\n",
       " 57.95492933403514,\n",
       " 55.82035744390084,\n",
       " 55.21769887528832,\n",
       " 54.52762019737922,\n",
       " 52.47863284090937,\n",
       " 50.54950981689112,\n",
       " 50.54829395952154,\n",
       " 49.66778278040257,\n",
       " 53.53610489104268,\n",
       " 39.24550838044952,\n",
       " 38.42407513167079,\n",
       " 37.76448758492034,\n",
       " 39.52470506121736,\n",
       " 39.397367102111005,\n",
       " 39.23620435016112,\n",
       " 39.27279598337202,\n",
       " 39.38814393816609,\n",
       " 44.831967959220826,\n",
       " 56.71709294906163,\n",
       " 62.77698344047622,\n",
       " 50.7306641991469,\n",
       " 54.05488155791639,\n",
       " 49.946645791092195,\n",
       " 48.54118123224313,\n",
       " 48.528690220469514,\n",
       " 47.86333550039487,\n",
       " 59.774772242102614,\n",
       " 48.65542176152939,\n",
       " 45.81753091330558,\n",
       " 45.0945566952803,\n",
       " 43.87028194254294,\n",
       " 42.419644299276754,\n",
       " 41.187724302618854,\n",
       " 41.68046257908941,\n",
       " 42.07398879016116,\n",
       " 52.619390709568705,\n",
       " 49.68268494499098,\n",
       " 49.592114538298354,\n",
       " 48.987653314647105,\n",
       " 48.10111149062175,\n",
       " 47.357038582871546,\n",
       " 46.70180873438307,\n",
       " 46.52008561501418,\n",
       " 46.51981966440949,\n",
       " 52.85189661907117,\n",
       " 55.44054079597288,\n",
       " 56.823331913998075,\n",
       " 57.276809233579996,\n",
       " 56.491709440121106,\n",
       " 55.64780845723113,\n",
       " 53.6343188938626,\n",
       " 53.323881402540884,\n",
       " 53.28527712229736,\n",
       " 57.02660919685092,\n",
       " 57.10727287002514,\n",
       " 57.227862037824686,\n",
       " 57.21364893372066,\n",
       " 56.79757208774253,\n",
       " 56.68584938470429,\n",
       " 56.503537720449124,\n",
       " 55.64455047293918,\n",
       " 55.35201127322179,\n",
       " 61.441767883490314,\n",
       " 48.205785590705766,\n",
       " 48.17258551975714,\n",
       " 48.59203757294421,\n",
       " 48.17258423391276,\n",
       " 46.760895419603834,\n",
       " 44.63998847675044,\n",
       " 45.4156808323475,\n",
       " 45.98108704559669,\n",
       " 54.27378140561508,\n",
       " 49.115889058690684,\n",
       " 50.06186442252862,\n",
       " 50.04582934169491,\n",
       " 50.379728879077234,\n",
       " 46.79761938554411,\n",
       " 46.717685615474785,\n",
       " 46.15154504147599,\n",
       " 45.60436673056882,\n",
       " 51.119196961397115,\n",
       " 42.488187254648516,\n",
       " 40.57225773664643,\n",
       " 37.54339129775094,\n",
       " 29.0352081692657,\n",
       " 28.049486816135733,\n",
       " 26.12888362295945,\n",
       " 25.28434966275431,\n",
       " 24.189651605277874,\n",
       " 27.366641239964768,\n",
       " 47.73212310211762,\n",
       " 45.96675155980846,\n",
       " 45.82708608583347,\n",
       " 43.47369154115465,\n",
       " 46.437498005764674,\n",
       " 44.409313020983035,\n",
       " 43.84270562157448,\n",
       " 43.37425471076916,\n",
       " 50.56696501391761,\n",
       " 50.59005747929937,\n",
       " 50.951501325715874,\n",
       " 50.855484336541544,\n",
       " 50.31712230911194,\n",
       " 49.07839829865405,\n",
       " 48.76336006921139,\n",
       " 48.3971016678868,\n",
       " 48.4793213586297,\n",
       " 56.87545638036461,\n",
       " 36.182064160046934,\n",
       " 35.56015354100373,\n",
       " 34.74589476043771,\n",
       " 35.16602982404935,\n",
       " 34.23870979354536,\n",
       " 33.22783687314168,\n",
       " 33.99391851513341,\n",
       " 34.72914562384222,\n",
       " 42.664196618015815,\n",
       " 41.812570121780844,\n",
       " 41.23618735296215,\n",
       " 40.606240816507785,\n",
       " 40.37767143250287,\n",
       " 40.046897155392195,\n",
       " 41.277454580462376,\n",
       " 42.29223634924119,\n",
       " 43.10621801531418,\n",
       " 46.76896003457804,\n",
       " 38.8111777350379,\n",
       " 38.53312448171013,\n",
       " 38.92270314656012,\n",
       " 38.636502374644415,\n",
       " 37.36150689952821,\n",
       " 38.68383214005129,\n",
       " 39.34677021019703,\n",
       " 38.15167576095389,\n",
       " 42.009968970753285,\n",
       " 42.115554348564054,\n",
       " 40.78773460216759,\n",
       " 40.240655460456395,\n",
       " 38.49470325207318,\n",
       " 36.30645758032843,\n",
       " 34.40426922239163,\n",
       " 35.74009728978457,\n",
       " 35.65549199810973,\n",
       " 45.592525068368275,\n",
       " 47.022815889341864,\n",
       " 46.84107966683978,\n",
       " 46.08508547263089,\n",
       " 44.84948000602891,\n",
       " 43.64687994556263,\n",
       " 42.45907991102031,\n",
       " 42.27965069180748,\n",
       " 42.124210539262414,\n",
       " 47.831343452224026,\n",
       " 43.03461655271818,\n",
       " 44.133206755574236,\n",
       " 45.94420916121381,\n",
       " 48.980963052316085,\n",
       " 51.23801232272848,\n",
       " 50.05628865371742,\n",
       " 48.51297813327838,\n",
       " 51.0729725399549,\n",
       " 57.67663350719495,\n",
       " 43.43157855405468,\n",
       " 43.4149920021918,\n",
       " 42.90746470642512,\n",
       " 41.73668197022762,\n",
       " 41.33503855224654,\n",
       " 41.41836595798035,\n",
       " 41.43881783736847,\n",
       " 41.858015525496775,\n",
       " 48.43973321534354,\n",
       " 48.88885983947293,\n",
       " 49.92149205565296,\n",
       " 51.73515504146978,\n",
       " 48.24765237055485,\n",
       " 44.83671493025356,\n",
       " 45.368037920419376,\n",
       " 43.240436271621434,\n",
       " 42.45101798440673,\n",
       " 49.23476041410561,\n",
       " 36.159756186844945,\n",
       " 35.96879287533872,\n",
       " 35.44196744139078,\n",
       " 36.00804303259512,\n",
       " 34.997489466805746,\n",
       " 33.60232619273709,\n",
       " 34.482236539770824,\n",
       " 35.96462820269196,\n",
       " 41.53694600941735,\n",
       " 50.99520483232725,\n",
       " 51.65932746061056,\n",
       " 50.7025323248728,\n",
       " 49.33925685633664,\n",
       " 49.71193512722874,\n",
       " 49.23461357782035,\n",
       " 49.851181212608076,\n",
       " 49.13593760976535,\n",
       " 52.06993393491377,\n",
       " 49.35440359912062,\n",
       " 60.267238707093526,\n",
       " 50.84218385887341,\n",
       " 48.71051100827229,\n",
       " 46.16276654666298,\n",
       " 44.070046708655624,\n",
       " 43.492609473736984,\n",
       " 43.21092203053174,\n",
       " 51.20989523740659,\n",
       " 41.10887679855749,\n",
       " 42.47430624167705,\n",
       " 43.25691347595754,\n",
       " 45.56348750717619,\n",
       " 42.545763746351454,\n",
       " 39.49490905268579,\n",
       " 39.627392358472406,\n",
       " 40.49313037723362,\n",
       " 44.90118162412834]"
      ]
     },
     "execution_count": 89,
     "metadata": {},
     "output_type": "execute_result"
    }
   ],
   "source": [
    "true_perc"
   ]
  },
  {
   "cell_type": "code",
   "execution_count": 87,
   "metadata": {},
   "outputs": [
    {
     "data": {
      "text/plain": [
       "24.189651605277874"
      ]
     },
     "execution_count": 87,
     "metadata": {},
     "output_type": "execute_result"
    }
   ],
   "source": [
    "min(true_perc)"
   ]
  },
  {
   "cell_type": "code",
   "execution_count": 12,
   "metadata": {},
   "outputs": [],
   "source": [
    "df_money['Category']=df_money['Category'].replace(true_perc)"
   ]
  },
  {
   "cell_type": "code",
   "execution_count": 16,
   "metadata": {},
   "outputs": [
    {
     "data": {
      "text/plain": [
       "Category    GF01\n",
       "Country       AT\n",
       "Year        2012\n",
       "Value        0.0\n",
       "dtype: object"
      ]
     },
     "execution_count": 16,
     "metadata": {},
     "output_type": "execute_result"
    }
   ],
   "source": [
    "df_percs"
   ]
  },
  {
   "cell_type": "code",
   "execution_count": null,
   "metadata": {},
   "outputs": [],
   "source": [
    "df_money = df_money[df_money.loc['Category'] == 'Total']"
   ]
  },
  {
   "cell_type": "code",
   "execution_count": 34,
   "metadata": {},
   "outputs": [],
   "source": [
    "import functions\n",
    "importlib.reload(functions)\n",
    "from functions import find_min_inEU"
   ]
  },
  {
   "cell_type": "code",
   "execution_count": 35,
   "metadata": {},
   "outputs": [
    {
     "data": {
      "text/plain": [
       "Category       GF0108\n",
       "Country     EU27_2020\n",
       "Year             2017\n",
       "Value             0.0\n",
       "Name: 2255, dtype: object"
      ]
     },
     "execution_count": 35,
     "metadata": {},
     "output_type": "execute_result"
    }
   ],
   "source": [
    "find_min_inEU(df_money)"
   ]
  },
  {
   "attachments": {},
   "cell_type": "markdown",
   "metadata": {},
   "source": [
    "# CHAOS\n"
   ]
  },
  {
   "attachments": {},
   "cell_type": "markdown",
   "metadata": {},
   "source": [
    "# Transformation"
   ]
  },
  {
   "attachments": {},
   "cell_type": "markdown",
   "metadata": {},
   "source": [
    "## Task 2\n",
    "- Min Percentage in EE\n",
    "- Max Percentage in a category per year\n",
    "- Max spending in millions per year\n",
    "- Max spending in millions in a category per"
   ]
  },
  {
   "cell_type": "code",
   "execution_count": 36,
   "metadata": {},
   "outputs": [],
   "source": [
    "import functions\n",
    "importlib.reload(functions)\n",
    "from functions import find_min"
   ]
  },
  {
   "cell_type": "code",
   "execution_count": 37,
   "metadata": {},
   "outputs": [
    {
     "data": {
      "text/html": [
       "<div>\n",
       "<style scoped>\n",
       "    .dataframe tbody tr th:only-of-type {\n",
       "        vertical-align: middle;\n",
       "    }\n",
       "\n",
       "    .dataframe tbody tr th {\n",
       "        vertical-align: top;\n",
       "    }\n",
       "\n",
       "    .dataframe thead th {\n",
       "        text-align: right;\n",
       "    }\n",
       "</style>\n",
       "<table border=\"1\" class=\"dataframe\">\n",
       "  <thead>\n",
       "    <tr style=\"text-align: right;\">\n",
       "      <th></th>\n",
       "      <th>Category</th>\n",
       "      <th>Country</th>\n",
       "      <th>Year</th>\n",
       "      <th>Value</th>\n",
       "    </tr>\n",
       "  </thead>\n",
       "  <tbody>\n",
       "    <tr>\n",
       "      <th>90</th>\n",
       "      <td>GF01</td>\n",
       "      <td>EU27_2020</td>\n",
       "      <td>2012</td>\n",
       "      <td>7.4</td>\n",
       "    </tr>\n",
       "    <tr>\n",
       "      <th>91</th>\n",
       "      <td>GF01</td>\n",
       "      <td>EU27_2020</td>\n",
       "      <td>2013</td>\n",
       "      <td>7.2</td>\n",
       "    </tr>\n",
       "    <tr>\n",
       "      <th>92</th>\n",
       "      <td>GF01</td>\n",
       "      <td>EU27_2020</td>\n",
       "      <td>2014</td>\n",
       "      <td>7.0</td>\n",
       "    </tr>\n",
       "    <tr>\n",
       "      <th>93</th>\n",
       "      <td>GF01</td>\n",
       "      <td>EU27_2020</td>\n",
       "      <td>2015</td>\n",
       "      <td>6.6</td>\n",
       "    </tr>\n",
       "    <tr>\n",
       "      <th>94</th>\n",
       "      <td>GF01</td>\n",
       "      <td>EU27_2020</td>\n",
       "      <td>2016</td>\n",
       "      <td>6.3</td>\n",
       "    </tr>\n",
       "    <tr>\n",
       "      <th>...</th>\n",
       "      <td>...</td>\n",
       "      <td>...</td>\n",
       "      <td>...</td>\n",
       "      <td>...</td>\n",
       "    </tr>\n",
       "    <tr>\n",
       "      <th>21424</th>\n",
       "      <td>TOTAL</td>\n",
       "      <td>EU27_2020</td>\n",
       "      <td>2016</td>\n",
       "      <td>47.4</td>\n",
       "    </tr>\n",
       "    <tr>\n",
       "      <th>21425</th>\n",
       "      <td>TOTAL</td>\n",
       "      <td>EU27_2020</td>\n",
       "      <td>2017</td>\n",
       "      <td>46.7</td>\n",
       "    </tr>\n",
       "    <tr>\n",
       "      <th>21426</th>\n",
       "      <td>TOTAL</td>\n",
       "      <td>EU27_2020</td>\n",
       "      <td>2018</td>\n",
       "      <td>46.5</td>\n",
       "    </tr>\n",
       "    <tr>\n",
       "      <th>21427</th>\n",
       "      <td>TOTAL</td>\n",
       "      <td>EU27_2020</td>\n",
       "      <td>2019</td>\n",
       "      <td>46.5</td>\n",
       "    </tr>\n",
       "    <tr>\n",
       "      <th>21428</th>\n",
       "      <td>TOTAL</td>\n",
       "      <td>EU27_2020</td>\n",
       "      <td>2020</td>\n",
       "      <td>52.9</td>\n",
       "    </tr>\n",
       "  </tbody>\n",
       "</table>\n",
       "<p>720 rows × 4 columns</p>\n",
       "</div>"
      ],
      "text/plain": [
       "      Category    Country  Year  Value\n",
       "90        GF01  EU27_2020  2012    7.4\n",
       "91        GF01  EU27_2020  2013    7.2\n",
       "92        GF01  EU27_2020  2014    7.0\n",
       "93        GF01  EU27_2020  2015    6.6\n",
       "94        GF01  EU27_2020  2016    6.3\n",
       "...        ...        ...   ...    ...\n",
       "21424    TOTAL  EU27_2020  2016   47.4\n",
       "21425    TOTAL  EU27_2020  2017   46.7\n",
       "21426    TOTAL  EU27_2020  2018   46.5\n",
       "21427    TOTAL  EU27_2020  2019   46.5\n",
       "21428    TOTAL  EU27_2020  2020   52.9\n",
       "\n",
       "[720 rows x 4 columns]"
      ]
     },
     "execution_count": 37,
     "metadata": {},
     "output_type": "execute_result"
    }
   ],
   "source": [
    "df_percs.loc[df_percs['Country'] == 'EU27_2020']\n",
    "\n",
    "# df = df_percs.loc[df_percs['Country'] == 'EU27_2020']\n",
    "# df['Value'].astype(float).idxmin(axis=0)"
   ]
  },
  {
   "cell_type": "code",
   "execution_count": 35,
   "metadata": {},
   "outputs": [
    {
     "data": {
      "text/plain": [
       "Category       GF0105\n",
       "Country     EU27_2020\n",
       "Year             2012\n",
       "Value             0.0\n",
       "Name: 1440, dtype: object"
      ]
     },
     "execution_count": 35,
     "metadata": {},
     "output_type": "execute_result"
    }
   ],
   "source": [
    "find_min(df_percs)"
   ]
  }
 ],
 "metadata": {
  "kernelspec": {
   "display_name": "venv",
   "language": "python",
   "name": "python3"
  },
  "language_info": {
   "codemirror_mode": {
    "name": "ipython",
    "version": 3
   },
   "file_extension": ".py",
   "mimetype": "text/x-python",
   "name": "python",
   "nbconvert_exporter": "python",
   "pygments_lexer": "ipython3",
   "version": "3.10.9"
  },
  "orig_nbformat": 4,
  "vscode": {
   "interpreter": {
    "hash": "e6232fddccc52ec3be2df53d973778cb0bdb846b8cde41175337693ffbb4e430"
   }
  }
 },
 "nbformat": 4,
 "nbformat_minor": 2
}
