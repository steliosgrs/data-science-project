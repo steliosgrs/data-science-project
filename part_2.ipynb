{
 "cells": [
  {
   "attachments": {},
   "cell_type": "markdown",
   "metadata": {},
   "source": [
    "# Initialization \n"
   ]
  },
  {
   "attachments": {},
   "cell_type": "markdown",
   "metadata": {},
   "source": [
    "## Libraries & Files"
   ]
  },
  {
   "cell_type": "code",
   "execution_count": 67,
   "metadata": {},
   "outputs": [],
   "source": [
    "import pandas as pd\n",
    "import numpy as np\n",
    "import importlib\n",
    "millions = pd.read_csv('MIL_coun31_12-20_cat80.csv')\n",
    "# millions = pd.read_csv('new.csv')\n",
    "percents = pd.read_csv('GDP_coun31_12-20_cat80.csv')\n",
    "TotalGDP = pd.read_csv('mil_GDP_TOTAL_31_12-20.csv')"
   ]
  },
  {
   "cell_type": "code",
   "execution_count": 51,
   "metadata": {},
   "outputs": [
    {
     "data": {
      "text/plain": [
       "array(['AT', 'BE', 'BG', 'CY', 'CZ', 'DE', 'DK', 'EE', 'EL', 'ES',\n",
       "       'EU27_2020', 'FI', 'FR', 'HR', 'HU', 'IE', 'IS', 'IT', 'LT', 'LU',\n",
       "       'LV', 'MT', 'NL', 'NO', 'PL', 'PT', 'RO', 'SE', 'SI', 'SK'],\n",
       "      dtype=object)"
      ]
     },
     "execution_count": 51,
     "metadata": {},
     "output_type": "execute_result"
    }
   ],
   "source": [
    "millions.geo.unique()"
   ]
  },
  {
   "cell_type": "code",
   "execution_count": 52,
   "metadata": {},
   "outputs": [
    {
     "data": {
      "text/plain": [
       "array(['AT', 'BE', 'BG', 'CH', 'CY', 'CZ', 'DE', 'DK', 'EE', 'EL', 'ES',\n",
       "       'EU27_2020', 'FI', 'FR', 'HR', 'HU', 'IE', 'IS', 'IT', 'LT', 'LU',\n",
       "       'LV', 'MT', 'NL', 'NO', 'PL', 'PT', 'RO', 'SE', 'SI', 'SK'],\n",
       "      dtype=object)"
      ]
     },
     "execution_count": 52,
     "metadata": {},
     "output_type": "execute_result"
    }
   ],
   "source": [
    "TotalGDP.geo.unique()"
   ]
  },
  {
   "cell_type": "code",
   "execution_count": 54,
   "metadata": {},
   "outputs": [
    {
     "data": {
      "text/plain": [
       "270"
      ]
     },
     "execution_count": 54,
     "metadata": {},
     "output_type": "execute_result"
    }
   ],
   "source": [
    "GDP_Expenditure  = millions.loc[millions['cofog99'] == 'TOTAL'].OBS_VALUE.values # Returns an ndarray\n",
    "# TotalGDP = TotalGDP.loc[TotalGDP['Category'] == 'TOTAL'].Value.values\n",
    "len(GDP_Expenditure)"
   ]
  },
  {
   "cell_type": "code",
   "execution_count": 53,
   "metadata": {},
   "outputs": [
    {
     "data": {
      "text/plain": [
       "279"
      ]
     },
     "execution_count": 53,
     "metadata": {},
     "output_type": "execute_result"
    }
   ],
   "source": [
    "Total = TotalGDP.OBS_VALUE.values\n",
    "len(Total)"
   ]
  },
  {
   "attachments": {},
   "cell_type": "markdown",
   "metadata": {},
   "source": [
    "# Preparation"
   ]
  },
  {
   "cell_type": "markdown",
   "metadata": {},
   "source": [
    "### Cleaning"
   ]
  },
  {
   "cell_type": "code",
   "execution_count": 68,
   "metadata": {},
   "outputs": [],
   "source": [
    "import clean\n",
    "importlib.reload(clean)\n",
    "from clean import cleaning,cleaning2,cleaningT,cleaning_task2"
   ]
  },
  {
   "cell_type": "code",
   "execution_count": 70,
   "metadata": {},
   "outputs": [],
   "source": [
    "df_percs = cleaning(percents)\n",
    "df_money = cleaning_task2(millions)\n",
    "df_GDP = cleaningT(TotalGDP)"
   ]
  },
  {
   "cell_type": "code",
   "execution_count": 75,
   "metadata": {},
   "outputs": [
    {
     "data": {
      "text/plain": [
       "270"
      ]
     },
     "execution_count": 75,
     "metadata": {},
     "output_type": "execute_result"
    }
   ],
   "source": [
    "GDP_Expenditure  = df_money.loc[df_money['Category'] == 'TOTAL'].Value.values # Returns an ndarray\n",
    "len(GDP_Expenditure)\n",
    "# df_money.Country.unique()"
   ]
  },
  {
   "cell_type": "code",
   "execution_count": 74,
   "metadata": {},
   "outputs": [
    {
     "data": {
      "text/plain": [
       "270"
      ]
     },
     "execution_count": 74,
     "metadata": {},
     "output_type": "execute_result"
    }
   ],
   "source": [
    "Total = df_GDP.Value.values\n",
    "len(Total)\n",
    "# df_GDP.Country.unique()"
   ]
  },
  {
   "attachments": {},
   "cell_type": "markdown",
   "metadata": {},
   "source": [
    "# CHAOS\n"
   ]
  },
  {
   "cell_type": "code",
   "execution_count": 49,
   "metadata": {},
   "outputs": [
    {
     "data": {
      "text/plain": [
       "array(['AT', 'BE', 'BG', 'CY', 'CZ', 'DE', 'DK', 'EE', 'EL', 'ES', 'FI',\n",
       "       'FR', 'HR', 'HU', 'IE', 'IS', 'IT', 'LT', 'LU', 'LV', 'MT', 'NL',\n",
       "       'NO', 'PL', 'PT', 'RO', 'SE', 'SI', 'SK'], dtype=object)"
      ]
     },
     "execution_count": 49,
     "metadata": {},
     "output_type": "execute_result"
    }
   ],
   "source": [
    "df_money.Country.unique()"
   ]
  },
  {
   "cell_type": "code",
   "execution_count": 8,
   "metadata": {},
   "outputs": [
    {
     "data": {
      "text/plain": [
       "261"
      ]
     },
     "execution_count": 8,
     "metadata": {},
     "output_type": "execute_result"
    }
   ],
   "source": [
    "mil_val = df_money.loc[df_money['Category'] == 'TOTAL'].Value.values\n",
    "mil_val\n",
    "len(mil_val)"
   ]
  },
  {
   "cell_type": "code",
   "execution_count": 65,
   "metadata": {},
   "outputs": [
    {
     "data": {
      "text/plain": [
       "array([3.18653000e+05, 3.23910200e+05, 3.33146100e+05, 3.44269200e+05,\n",
       "       3.57608000e+05, 3.69361900e+05, 3.85274100e+05, 3.97169500e+05,\n",
       "       3.81042500e+05, 3.86174700e+05, 3.92880000e+05, 4.03003300e+05,\n",
       "       4.16701400e+05, 4.30085300e+05, 4.45050100e+05, 4.60050800e+05,\n",
       "       4.78645000e+05, 4.59826300e+05, 4.22568000e+04, 4.20502000e+04,\n",
       "       4.30260000e+04, 4.58123000e+04, 4.87731000e+04, 5.25313000e+04,\n",
       "       5.62248000e+04, 6.15585000e+04, 6.16389000e+04, 5.34012800e+05,\n",
       "       5.31729100e+05, 5.48014500e+05, 6.25532700e+05, 6.21765100e+05,\n",
       "       6.15776300e+05, 6.14304400e+05, 6.44443200e+05, 6.48913300e+05,\n",
       "       1.94954000e+04, 1.80403000e+04, 1.74828000e+04, 1.79442000e+04,\n",
       "       1.90138000e+04, 2.03124000e+04, 2.16751000e+04, 2.31762000e+04,\n",
       "       2.18949000e+04, 1.62587500e+05, 1.59461500e+05, 1.57821300e+05,\n",
       "       1.69558200e+05, 1.77438500e+05, 1.94132900e+05, 2.10970500e+05,\n",
       "       2.25613500e+05, 2.15805400e+05, 2.74531000e+06, 2.81135000e+06,\n",
       "       2.92743000e+06, 3.02618000e+06, 3.13474000e+06, 3.26716000e+06,\n",
       "       3.36545000e+06, 3.47326000e+06, 3.40543000e+06, 2.54578000e+05,\n",
       "       2.58742700e+05, 2.65757000e+05, 2.73017600e+05, 2.83109700e+05,\n",
       "       2.94808200e+05, 3.02328700e+05, 3.09526400e+05, 3.11759700e+05,\n",
       "       1.79167000e+04, 1.89108000e+04, 2.00482000e+04, 2.06314000e+04,\n",
       "       2.17479000e+04, 2.38336000e+04, 2.59322000e+04, 2.77647000e+04,\n",
       "       2.74650000e+04, 1.88380600e+05, 1.79884400e+05, 1.77236000e+05,\n",
       "       1.76368900e+05, 1.74494200e+05, 1.76903400e+05, 1.79557700e+05,\n",
       "       1.83351200e+05, 1.65405900e+05, 1.03110400e+06, 1.02067700e+06,\n",
       "       1.03260800e+06, 1.07809200e+06, 1.11442000e+06, 1.16249200e+06,\n",
       "       1.20385900e+06, 1.24551300e+06, 1.11798900e+06, 1.13964495e+07,\n",
       "       1.15162109e+07, 1.17820853e+07, 1.22151458e+07, 1.25487057e+07,\n",
       "       1.30748330e+07, 1.35333272e+07, 1.40186859e+07, 1.34611559e+07,\n",
       "       2.01037000e+05, 2.04321000e+05, 2.06897000e+05, 2.11385000e+05,\n",
       "       2.17518000e+05, 2.26301000e+05, 2.33462000e+05, 2.39858000e+05,\n",
       "       2.38038000e+05, 2.08880400e+06, 2.11718900e+06, 2.14976500e+06,\n",
       "       2.19843200e+06, 2.23412900e+06, 2.29724200e+06, 2.36330600e+06,\n",
       "       2.43763500e+06, 2.31046900e+06, 4.46212000e+04, 4.44371000e+04,\n",
       "       4.39891000e+04, 4.52579000e+04, 4.73387000e+04, 4.99859000e+04,\n",
       "       5.27472000e+04, 5.56444000e+04, 5.04249000e+04, 1.00247600e+05,\n",
       "       1.02239700e+05, 1.06263800e+05, 1.12791000e+05, 1.16255700e+05,\n",
       "       1.27024700e+05, 1.36054600e+05, 1.46526100e+05, 1.37826500e+05,\n",
       "       1.75615400e+05, 1.79457600e+05, 1.95085200e+05, 2.62975900e+05,\n",
       "       2.70205300e+05, 2.97763200e+05, 3.26631300e+05, 3.56704600e+05,\n",
       "       3.72836400e+05, 1.14799000e+04, 1.21329000e+04, 1.34726000e+04,\n",
       "       1.57953000e+04, 1.88042000e+04, 2.19177000e+04, 2.22411000e+04,\n",
       "       2.21726000e+04, 1.90047000e+04, 1.62435870e+06, 1.61275130e+06,\n",
       "       1.62740560e+06, 1.65535500e+06, 1.69578680e+06, 1.73659280e+06,\n",
       "       1.77139120e+06, 1.79664850e+06, 1.66062140e+06, 3.34102000e+04,\n",
       "       3.50395000e+04, 3.65813000e+04, 3.73457000e+04, 3.88899000e+04,\n",
       "       4.22763000e+04, 4.55152000e+04, 4.89082000e+04, 4.97696000e+04,\n",
       "       4.65262000e+04, 4.90945000e+04, 5.17913000e+04, 5.41423000e+04,\n",
       "       5.62081000e+04, 5.81688000e+04, 6.01212000e+04, 6.23736000e+04,\n",
       "       6.47810000e+04, 2.20975000e+04, 2.27913000e+04, 2.36258000e+04,\n",
       "       2.45721000e+04, 2.53713000e+04, 2.69844000e+04, 2.91536000e+04,\n",
       "       3.06786000e+04, 3.02940000e+04, 7.36450000e+03, 7.94430000e+03,\n",
       "       8.75110000e+03, 9.99670000e+03, 1.05411000e+04, 1.19366000e+04,\n",
       "       1.29510000e+04, 1.41779000e+04, 1.31640000e+04, 6.52966000e+05,\n",
       "       6.60463000e+05, 6.71560000e+05, 6.90008000e+05, 7.08337000e+05,\n",
       "       7.38146000e+05, 7.73987000e+05, 8.13055000e+05, 7.96530000e+05,\n",
       "       3.99069200e+05, 3.95856800e+05, 3.78456400e+05, 3.49756700e+05,\n",
       "       3.35396500e+05, 3.56288500e+05, 3.72657600e+05, 3.65130500e+05,\n",
       "       3.22823800e+05, 3.85389400e+05, 3.88356400e+05, 4.06412500e+05,\n",
       "       4.29834600e+05, 4.24735300e+05, 4.65772600e+05, 4.99004100e+05,\n",
       "       5.32504700e+05, 5.26147200e+05, 1.68295600e+05, 1.70492300e+05,\n",
       "       1.73053700e+05, 1.79713200e+05, 1.86489800e+05, 1.95947200e+05,\n",
       "       2.05184100e+05, 2.14374600e+05, 2.00518900e+05, 1.39319800e+05,\n",
       "       1.42928900e+05, 1.50522400e+05, 1.60287800e+05, 1.67494300e+05,\n",
       "       1.86399000e+05, 2.06071900e+05, 2.24178600e+05, 2.20486600e+05,\n",
       "       4.30037100e+05, 4.41850700e+05, 4.38833900e+05, 4.55494700e+05,\n",
       "       4.66266500e+05, 4.80025500e+05, 4.70673100e+05, 4.76869500e+05,\n",
       "       4.80556400e+05, 3.62533000e+04, 3.64543000e+04, 3.76343000e+04,\n",
       "       3.88526000e+04, 4.04432000e+04, 4.30113000e+04, 4.58763000e+04,\n",
       "       4.85331000e+04, 4.70206000e+04, 7.36493000e+04, 7.44928000e+04,\n",
       "       7.63545000e+04, 8.01260000e+04, 8.12652000e+04, 8.46699000e+04,\n",
       "       8.98747000e+04, 9.44375000e+04, 9.34138000e+04])"
      ]
     },
     "execution_count": 65,
     "metadata": {},
     "output_type": "execute_result"
    }
   ],
   "source": [
    "mil_val_Total = df_GDP.Value.values\n",
    "mil_val_Total\n",
    "len(mil_val_Total)"
   ]
  },
  {
   "cell_type": "code",
   "execution_count": 50,
   "metadata": {},
   "outputs": [
    {
     "data": {
      "text/plain": [
       "Country\n",
       "AT             7\n",
       "BE            16\n",
       "BG            26\n",
       "CH            35\n",
       "CY            43\n",
       "CZ            52\n",
       "DE            61\n",
       "DK            71\n",
       "EE            79\n",
       "EL            81\n",
       "ES            97\n",
       "EU27_2020    106\n",
       "FI           115\n",
       "FR           124\n",
       "HR           133\n",
       "HU           142\n",
       "IE           152\n",
       "IS           159\n",
       "IT           169\n",
       "LT           179\n",
       "LU           188\n",
       "LV           196\n",
       "MT           205\n",
       "NL           214\n",
       "NO           216\n",
       "PL           232\n",
       "PT           241\n",
       "RO           250\n",
       "SE           260\n",
       "SI           268\n",
       "SK           277\n",
       "Name: Value, dtype: int64"
      ]
     },
     "execution_count": 50,
     "metadata": {},
     "output_type": "execute_result"
    }
   ],
   "source": [
    "df_GDP.groupby('Country')['Value'].idxmax()"
   ]
  },
  {
   "cell_type": "code",
   "execution_count": 33,
   "metadata": {},
   "outputs": [],
   "source": [
    "import functions\n",
    "importlib.reload(functions)\n",
    "from functions import find_max"
   ]
  },
  {
   "attachments": {},
   "cell_type": "markdown",
   "metadata": {},
   "source": [
    "# Transformation"
   ]
  },
  {
   "attachments": {},
   "cell_type": "markdown",
   "metadata": {},
   "source": [
    "## Task 2\n",
    "- Min Percentage in EE\n",
    "- Max Percentage in a category per year\n",
    "- Max spending in millions per year\n",
    "- Max spending in millions in a category per"
   ]
  },
  {
   "cell_type": "code",
   "execution_count": 36,
   "metadata": {},
   "outputs": [],
   "source": [
    "import functions\n",
    "importlib.reload(functions)\n",
    "from functions import find_min"
   ]
  },
  {
   "cell_type": "code",
   "execution_count": 37,
   "metadata": {},
   "outputs": [
    {
     "data": {
      "text/html": [
       "<div>\n",
       "<style scoped>\n",
       "    .dataframe tbody tr th:only-of-type {\n",
       "        vertical-align: middle;\n",
       "    }\n",
       "\n",
       "    .dataframe tbody tr th {\n",
       "        vertical-align: top;\n",
       "    }\n",
       "\n",
       "    .dataframe thead th {\n",
       "        text-align: right;\n",
       "    }\n",
       "</style>\n",
       "<table border=\"1\" class=\"dataframe\">\n",
       "  <thead>\n",
       "    <tr style=\"text-align: right;\">\n",
       "      <th></th>\n",
       "      <th>Category</th>\n",
       "      <th>Country</th>\n",
       "      <th>Year</th>\n",
       "      <th>Value</th>\n",
       "    </tr>\n",
       "  </thead>\n",
       "  <tbody>\n",
       "    <tr>\n",
       "      <th>90</th>\n",
       "      <td>GF01</td>\n",
       "      <td>EU27_2020</td>\n",
       "      <td>2012</td>\n",
       "      <td>7.4</td>\n",
       "    </tr>\n",
       "    <tr>\n",
       "      <th>91</th>\n",
       "      <td>GF01</td>\n",
       "      <td>EU27_2020</td>\n",
       "      <td>2013</td>\n",
       "      <td>7.2</td>\n",
       "    </tr>\n",
       "    <tr>\n",
       "      <th>92</th>\n",
       "      <td>GF01</td>\n",
       "      <td>EU27_2020</td>\n",
       "      <td>2014</td>\n",
       "      <td>7.0</td>\n",
       "    </tr>\n",
       "    <tr>\n",
       "      <th>93</th>\n",
       "      <td>GF01</td>\n",
       "      <td>EU27_2020</td>\n",
       "      <td>2015</td>\n",
       "      <td>6.6</td>\n",
       "    </tr>\n",
       "    <tr>\n",
       "      <th>94</th>\n",
       "      <td>GF01</td>\n",
       "      <td>EU27_2020</td>\n",
       "      <td>2016</td>\n",
       "      <td>6.3</td>\n",
       "    </tr>\n",
       "    <tr>\n",
       "      <th>...</th>\n",
       "      <td>...</td>\n",
       "      <td>...</td>\n",
       "      <td>...</td>\n",
       "      <td>...</td>\n",
       "    </tr>\n",
       "    <tr>\n",
       "      <th>21424</th>\n",
       "      <td>TOTAL</td>\n",
       "      <td>EU27_2020</td>\n",
       "      <td>2016</td>\n",
       "      <td>47.4</td>\n",
       "    </tr>\n",
       "    <tr>\n",
       "      <th>21425</th>\n",
       "      <td>TOTAL</td>\n",
       "      <td>EU27_2020</td>\n",
       "      <td>2017</td>\n",
       "      <td>46.7</td>\n",
       "    </tr>\n",
       "    <tr>\n",
       "      <th>21426</th>\n",
       "      <td>TOTAL</td>\n",
       "      <td>EU27_2020</td>\n",
       "      <td>2018</td>\n",
       "      <td>46.5</td>\n",
       "    </tr>\n",
       "    <tr>\n",
       "      <th>21427</th>\n",
       "      <td>TOTAL</td>\n",
       "      <td>EU27_2020</td>\n",
       "      <td>2019</td>\n",
       "      <td>46.5</td>\n",
       "    </tr>\n",
       "    <tr>\n",
       "      <th>21428</th>\n",
       "      <td>TOTAL</td>\n",
       "      <td>EU27_2020</td>\n",
       "      <td>2020</td>\n",
       "      <td>52.9</td>\n",
       "    </tr>\n",
       "  </tbody>\n",
       "</table>\n",
       "<p>720 rows × 4 columns</p>\n",
       "</div>"
      ],
      "text/plain": [
       "      Category    Country  Year  Value\n",
       "90        GF01  EU27_2020  2012    7.4\n",
       "91        GF01  EU27_2020  2013    7.2\n",
       "92        GF01  EU27_2020  2014    7.0\n",
       "93        GF01  EU27_2020  2015    6.6\n",
       "94        GF01  EU27_2020  2016    6.3\n",
       "...        ...        ...   ...    ...\n",
       "21424    TOTAL  EU27_2020  2016   47.4\n",
       "21425    TOTAL  EU27_2020  2017   46.7\n",
       "21426    TOTAL  EU27_2020  2018   46.5\n",
       "21427    TOTAL  EU27_2020  2019   46.5\n",
       "21428    TOTAL  EU27_2020  2020   52.9\n",
       "\n",
       "[720 rows x 4 columns]"
      ]
     },
     "execution_count": 37,
     "metadata": {},
     "output_type": "execute_result"
    }
   ],
   "source": [
    "df_percs.loc[df_percs['Country'] == 'EU27_2020']\n",
    "\n",
    "# df = df_percs.loc[df_percs['Country'] == 'EU27_2020']\n",
    "# df['Value'].astype(float).idxmin(axis=0)"
   ]
  },
  {
   "cell_type": "code",
   "execution_count": 35,
   "metadata": {},
   "outputs": [
    {
     "data": {
      "text/plain": [
       "Category       GF0105\n",
       "Country     EU27_2020\n",
       "Year             2012\n",
       "Value             0.0\n",
       "Name: 1440, dtype: object"
      ]
     },
     "execution_count": 35,
     "metadata": {},
     "output_type": "execute_result"
    }
   ],
   "source": [
    "find_min(df_percs)"
   ]
  }
 ],
 "metadata": {
  "kernelspec": {
   "display_name": "venv",
   "language": "python",
   "name": "python3"
  },
  "language_info": {
   "codemirror_mode": {
    "name": "ipython",
    "version": 3
   },
   "file_extension": ".py",
   "mimetype": "text/x-python",
   "name": "python",
   "nbconvert_exporter": "python",
   "pygments_lexer": "ipython3",
   "version": "3.10.8 (tags/v3.10.8:aaaf517, Oct 11 2022, 16:50:30) [MSC v.1933 64 bit (AMD64)]"
  },
  "orig_nbformat": 4,
  "vscode": {
   "interpreter": {
    "hash": "e6232fddccc52ec3be2df53d973778cb0bdb846b8cde41175337693ffbb4e430"
   }
  }
 },
 "nbformat": 4,
 "nbformat_minor": 2
}
