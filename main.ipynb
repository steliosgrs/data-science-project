{
 "cells": [
  {
   "attachments": {},
   "cell_type": "markdown",
   "metadata": {},
   "source": [
    "# Initialization \n",
    "## Libraries & Files"
   ]
  },
  {
   "cell_type": "code",
   "execution_count": 1,
   "metadata": {},
   "outputs": [],
   "source": [
    "import pandas as pd\n",
    "import numpy as np\n",
    "import importlib\n",
    "percents = pd.read_csv('countries_perGDP_80_2012_2020.csv')\n",
    "millions = pd.read_csv('countries_millions_80_2012_2020.csv')"
   ]
  },
  {
   "cell_type": "markdown",
   "metadata": {},
   "source": [
    "## Preparation"
   ]
  },
  {
   "cell_type": "markdown",
   "metadata": {},
   "source": [
    "### Cleaning"
   ]
  },
  {
   "cell_type": "code",
   "execution_count": 2,
   "metadata": {},
   "outputs": [],
   "source": [
    "# ! You must import & reload the functions when you apply changes on them.\n",
    "import clean\n",
    "importlib.reload(clean)\n",
    "from clean import cleaning"
   ]
  },
  {
   "cell_type": "code",
   "execution_count": 3,
   "metadata": {},
   "outputs": [
    {
     "data": {
      "text/html": [
       "<div>\n",
       "<style scoped>\n",
       "    .dataframe tbody tr th:only-of-type {\n",
       "        vertical-align: middle;\n",
       "    }\n",
       "\n",
       "    .dataframe tbody tr th {\n",
       "        vertical-align: top;\n",
       "    }\n",
       "\n",
       "    .dataframe thead th {\n",
       "        text-align: right;\n",
       "    }\n",
       "</style>\n",
       "<table border=\"1\" class=\"dataframe\">\n",
       "  <thead>\n",
       "    <tr style=\"text-align: right;\">\n",
       "      <th></th>\n",
       "      <th>Category</th>\n",
       "      <th>Country</th>\n",
       "      <th>Year</th>\n",
       "      <th>Percent</th>\n",
       "    </tr>\n",
       "  </thead>\n",
       "  <tbody>\n",
       "    <tr>\n",
       "      <th>0</th>\n",
       "      <td>GF01</td>\n",
       "      <td>AT</td>\n",
       "      <td>2012</td>\n",
       "      <td>7.3</td>\n",
       "    </tr>\n",
       "    <tr>\n",
       "      <th>1</th>\n",
       "      <td>GF01</td>\n",
       "      <td>AT</td>\n",
       "      <td>2013</td>\n",
       "      <td>7.2</td>\n",
       "    </tr>\n",
       "    <tr>\n",
       "      <th>2</th>\n",
       "      <td>GF01</td>\n",
       "      <td>AT</td>\n",
       "      <td>2014</td>\n",
       "      <td>6.8</td>\n",
       "    </tr>\n",
       "    <tr>\n",
       "      <th>3</th>\n",
       "      <td>GF01</td>\n",
       "      <td>AT</td>\n",
       "      <td>2015</td>\n",
       "      <td>6.8</td>\n",
       "    </tr>\n",
       "    <tr>\n",
       "      <th>4</th>\n",
       "      <td>GF01</td>\n",
       "      <td>AT</td>\n",
       "      <td>2016</td>\n",
       "      <td>6.5</td>\n",
       "    </tr>\n",
       "    <tr>\n",
       "      <th>...</th>\n",
       "      <td>...</td>\n",
       "      <td>...</td>\n",
       "      <td>...</td>\n",
       "      <td>...</td>\n",
       "    </tr>\n",
       "    <tr>\n",
       "      <th>21595</th>\n",
       "      <td>TOTAL</td>\n",
       "      <td>SK</td>\n",
       "      <td>2016</td>\n",
       "      <td>42.7</td>\n",
       "    </tr>\n",
       "    <tr>\n",
       "      <th>21596</th>\n",
       "      <td>TOTAL</td>\n",
       "      <td>SK</td>\n",
       "      <td>2017</td>\n",
       "      <td>39.6</td>\n",
       "    </tr>\n",
       "    <tr>\n",
       "      <th>21597</th>\n",
       "      <td>TOTAL</td>\n",
       "      <td>SK</td>\n",
       "      <td>2018</td>\n",
       "      <td>39.8</td>\n",
       "    </tr>\n",
       "    <tr>\n",
       "      <th>21598</th>\n",
       "      <td>TOTAL</td>\n",
       "      <td>SK</td>\n",
       "      <td>2019</td>\n",
       "      <td>40.7</td>\n",
       "    </tr>\n",
       "    <tr>\n",
       "      <th>21599</th>\n",
       "      <td>TOTAL</td>\n",
       "      <td>SK</td>\n",
       "      <td>2020</td>\n",
       "      <td>45.6</td>\n",
       "    </tr>\n",
       "  </tbody>\n",
       "</table>\n",
       "<p>21421 rows × 4 columns</p>\n",
       "</div>"
      ],
      "text/plain": [
       "      Category Country  Year  Percent\n",
       "0         GF01      AT  2012      7.3\n",
       "1         GF01      AT  2013      7.2\n",
       "2         GF01      AT  2014      6.8\n",
       "3         GF01      AT  2015      6.8\n",
       "4         GF01      AT  2016      6.5\n",
       "...        ...     ...   ...      ...\n",
       "21595    TOTAL      SK  2016     42.7\n",
       "21596    TOTAL      SK  2017     39.6\n",
       "21597    TOTAL      SK  2018     39.8\n",
       "21598    TOTAL      SK  2019     40.7\n",
       "21599    TOTAL      SK  2020     45.6\n",
       "\n",
       "[21421 rows x 4 columns]"
      ]
     },
     "execution_count": 3,
     "metadata": {},
     "output_type": "execute_result"
    }
   ],
   "source": [
    "# TODO clean (this,flags=[])\n",
    "my_data = cleaning(percents)\n",
    "my_data\n"
   ]
  },
  {
   "attachments": {},
   "cell_type": "markdown",
   "metadata": {},
   "source": [
    "## Part 1"
   ]
  },
  {
   "attachments": {},
   "cell_type": "markdown",
   "metadata": {},
   "source": [
    "### Task 1\n",
    "- Max Percentage spending\n",
    "- Max Percentage spending by category per year\n",
    "- Max spending in millions\n",
    "- Max spending in millions by category "
   ]
  },
  {
   "attachments": {},
   "cell_type": "markdown",
   "metadata": {},
   "source": [
    "### Max Percentage spending"
   ]
  },
  {
   "cell_type": "code",
   "execution_count": 5,
   "metadata": {},
   "outputs": [],
   "source": [
    "# from functions import find_max\n",
    "import functions\n",
    "importlib.reload(functions)\n",
    "from functions import find_max"
   ]
  },
  {
   "cell_type": "code",
   "execution_count": 6,
   "metadata": {},
   "outputs": [
    {
     "data": {
      "text/plain": [
       "' Total max 62.8 Index:21412 Country: Greece'"
      ]
     },
     "execution_count": 6,
     "metadata": {},
     "output_type": "execute_result"
    }
   ],
   "source": [
    "find_max(my_data)"
   ]
  },
  {
   "attachments": {},
   "cell_type": "markdown",
   "metadata": {},
   "source": [
    "### Max Percentage spending by category per year"
   ]
  },
  {
   "attachments": {},
   "cell_type": "markdown",
   "metadata": {},
   "source": [
    "Εδώ πρέπει να grouparoume τα δεδομένα με βάση την χώρα, μετά ανά χρόνο και μετά τις κατηγορίες\n",
    "| id  | Country | Year |  Category  | Percentage |\n",
    "|:---:|:-------:|:----:|:----------:|:----------:|\n",
    "|  0  | Greece  | 2012 | Category_1 |    32.2    |\n",
    "|  1  | Greece  | 2013 | Category_2 |    21.2    |\n",
    "|  2  | Greece  | 2014 | Category_3 |    34.1    |"
   ]
  },
  {
   "attachments": {},
   "cell_type": "markdown",
   "metadata": {},
   "source": [
    "### Max spending in millions"
   ]
  },
  {
   "cell_type": "code",
   "execution_count": null,
   "metadata": {},
   "outputs": [],
   "source": []
  },
  {
   "attachments": {},
   "cell_type": "markdown",
   "metadata": {},
   "source": [
    "### Max spending in millions"
   ]
  },
  {
   "cell_type": "markdown",
   "metadata": {},
   "source": [
    "### Max spending by category absolute value"
   ]
  },
  {
   "attachments": {},
   "cell_type": "markdown",
   "metadata": {},
   "source": [
    "## Task 2"
   ]
  },
  {
   "cell_type": "code",
   "execution_count": null,
   "metadata": {},
   "outputs": [],
   "source": []
  },
  {
   "attachments": {},
   "cell_type": "markdown",
   "metadata": {},
   "source": [
    "## Task 3"
   ]
  },
  {
   "cell_type": "markdown",
   "metadata": {},
   "source": []
  },
  {
   "cell_type": "markdown",
   "metadata": {},
   "source": []
  }
 ],
 "metadata": {
  "kernelspec": {
   "display_name": "Python 3.10.8 ('venv': venv)",
   "language": "python",
   "name": "python3"
  },
  "language_info": {
   "codemirror_mode": {
    "name": "ipython",
    "version": 3
   },
   "file_extension": ".py",
   "mimetype": "text/x-python",
   "name": "python",
   "nbconvert_exporter": "python",
   "pygments_lexer": "ipython3",
   "version": "3.10.8"
  },
  "orig_nbformat": 4,
  "vscode": {
   "interpreter": {
    "hash": "e6232fddccc52ec3be2df53d973778cb0bdb846b8cde41175337693ffbb4e430"
   }
  }
 },
 "nbformat": 4,
 "nbformat_minor": 2
}
